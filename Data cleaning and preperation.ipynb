{
 "cells": [
  {
   "cell_type": "code",
   "execution_count": 1,
   "metadata": {},
   "outputs": [],
   "source": [
    "import pandas as pd\n",
    "import numpy as np\n",
    "import matplotlib.pylab as plt\n",
    "import seaborn as sns\n",
    "import os\n",
    "from pathlib import Path\n",
    "import seaborn as sns\n",
    "from tqdm import tqdm\n"
   ]
  },
  {
   "cell_type": "code",
   "execution_count": 2,
   "metadata": {},
   "outputs": [],
   "source": [
    "path = os.getcwd() + \"/Notebook\"\n",
    "files = os.listdir(path) \n",
    "months = [i for i in files if str(i).isnumeric()]\n"
   ]
  },
  {
   "cell_type": "code",
   "execution_count": 3,
   "metadata": {},
   "outputs": [
    {
     "name": "stderr",
     "output_type": "stream",
     "text": [
      "100%|██████████| 12/12 [00:04<00:00,  2.71it/s]\n"
     ]
    }
   ],
   "source": [
    "for i in tqdm(months):\n",
    "    dataframes=[]\n",
    "    thisdir = os.getcwd() + \"/Notebook\" +\"/\" +str(i)\n",
    "    for j in os.listdir(thisdir):\n",
    "        if j.isnumeric():\n",
    "            dir2 = os.listdir(thisdir+\"/\"+str(j))\n",
    "            for k in dir2:\n",
    "                if 'Reis_Bestemming_Datum' in k: \n",
    "                    file_dir = thisdir + \"/\" + j + \"/\" + k\n",
    "                    df = pd.read_csv(str(file_dir),sep=';')\n",
    "                    #Clean stuff\n",
    "                    df = df[df.AankomstHalteNaam != 'Overig']\n",
    "                    df = df[df.AankomstHalteNaam != '[[ Onbekend ]]']\n",
    "                    \n",
    "                    df = df.dropna()\n",
    "\n",
    "                    df = df.sort_values(by=['Datum'])\n",
    "                    dataframes.append(df)\n",
    "                    \n",
    "    merged = pd.concat(dataframes, ignore_index=True)\n",
    "    merged.to_csv('merged' + str(i) + \".csv\")\n",
    "        \n",
    "    "
   ]
  },
  {
   "cell_type": "code",
   "execution_count": 4,
   "metadata": {},
   "outputs": [
    {
     "name": "stderr",
     "output_type": "stream",
     "text": [
      "100%|██████████| 12/12 [00:01<00:00, 11.14it/s]\n"
     ]
    }
   ],
   "source": [
    "#all to one file\n",
    "filelist=[]\n",
    "for i in tqdm(months):\n",
    "    dataframes=[]\n",
    "    thisdir = os.getcwd() + \"/Notebook\" +\"/\" +str(i)\n",
    "    for j in os.listdir(thisdir):\n",
    "        if j.isnumeric():\n",
    "            dir2 = os.listdir(thisdir+\"/\"+str(j))\n",
    "            for k in dir2:\n",
    "                if 'Reis_Bestemming_Datum' in k: \n",
    "                    file_dir = thisdir + \"/\" + j + \"/\" + k\n",
    "                    df = pd.read_csv(str(file_dir),sep=';')\n",
    "                        #Clean stuff\n",
    "                    df = df[df.AankomstHalteNaam != 'Overig']\n",
    "                    df = df[df.AankomstHalteNaam != '[[ Onbekend ]]']\n",
    "                    \n",
    "                    df = df.dropna()\n",
    "\n",
    "                    dataframes.append(df)\n",
    "    \n",
    "    merged = pd.concat(dataframes, ignore_index=True)\n",
    "    filelist.append(merged)\n",
    "    \n",
    "    \n",
    "final_merged = pd.concat(filelist, ignore_index=True)"
   ]
  },
  {
   "cell_type": "code",
   "execution_count": 5,
   "metadata": {},
   "outputs": [],
   "source": [
    "final_merged['Modaliteit'] = final_merged.AankomstHalteCode.str.isnumeric()\n",
    "final_merged.Modaliteit = final_merged.Modaliteit.replace(to_replace=[True],value='Tram of bus')\n",
    "final_merged.Modaliteit = final_merged.Modaliteit.replace(to_replace=[False],value='Metro')\n",
    "final_merged.to_csv(\"Bestemming_Datum_merged.csv\")"
   ]
  },
  {
   "cell_type": "code",
   "execution_count": null,
   "metadata": {},
   "outputs": [],
   "source": []
  },
  {
   "cell_type": "code",
   "execution_count": 6,
   "metadata": {},
   "outputs": [
    {
     "data": {
      "text/plain": [
       "Tram of bus    656398\n",
       "Metro           29630\n",
       "Name: Modaliteit, dtype: int64"
      ]
     },
     "execution_count": 6,
     "metadata": {},
     "output_type": "execute_result"
    }
   ],
   "source": [
    "final_merged.Modaliteit.value_counts()"
   ]
  },
  {
   "cell_type": "code",
   "execution_count": 7,
   "metadata": {},
   "outputs": [],
   "source": [
    "ModaliteitTypes = pd.DataFrame(final_merged.groupby('AankomstHalteNaam')['Modaliteit'].apply(list).apply(set)).reset_index()\n"
   ]
  },
  {
   "cell_type": "code",
   "execution_count": null,
   "metadata": {},
   "outputs": [],
   "source": [
    "\n"
   ]
  },
  {
   "cell_type": "code",
   "execution_count": 8,
   "metadata": {},
   "outputs": [],
   "source": [
    "droppedduplicates = final_merged.drop_duplicates(subset=['AankomstHalteNaam']).dropna(axis=1)"
   ]
  },
  {
   "cell_type": "code",
   "execution_count": null,
   "metadata": {},
   "outputs": [],
   "source": []
  },
  {
   "cell_type": "code",
   "execution_count": 11,
   "metadata": {},
   "outputs": [],
   "source": [
    "Final_merged_one_location = pd.merge(final_merged,droppedduplicates, on=\"AankomstHalteNaam\",how='outer')[[\"Datum_y\", \"AankomstHalteCode_x\", \"AankomstLat_y\",\"AankomstHalteNaam\" ,\"AankomstLon_y\", \"AantalReizen_x\", \"Modaliteit_x\"]]"
   ]
  },
  {
   "cell_type": "code",
   "execution_count": 12,
   "metadata": {},
   "outputs": [
    {
     "data": {
      "text/plain": [
       "Tram of bus    656398\n",
       "Metro           29630\n",
       "Name: Modaliteit_x, dtype: int64"
      ]
     },
     "execution_count": 12,
     "metadata": {},
     "output_type": "execute_result"
    }
   ],
   "source": [
    "Final_merged_one_location.Modaliteit_x.value_counts()"
   ]
  },
  {
   "cell_type": "code",
   "execution_count": 13,
   "metadata": {},
   "outputs": [],
   "source": [
    "Final_merged_one_location.to_csv(\"Bestemming_Datum_merged_one_location.csv\")"
   ]
  },
  {
   "cell_type": "code",
   "execution_count": null,
   "metadata": {},
   "outputs": [],
   "source": []
  },
  {
   "cell_type": "code",
   "execution_count": null,
   "metadata": {},
   "outputs": [],
   "source": []
  },
  {
   "cell_type": "code",
   "execution_count": null,
   "metadata": {},
   "outputs": [],
   "source": []
  },
  {
   "cell_type": "code",
   "execution_count": 81,
   "metadata": {},
   "outputs": [],
   "source": []
  },
  {
   "cell_type": "code",
   "execution_count": 18,
   "metadata": {},
   "outputs": [
    {
     "name": "stderr",
     "output_type": "stream",
     "text": [
      "100%|██████████| 12/12 [01:07<00:00,  5.66s/it]\n"
     ]
    }
   ],
   "source": [
    "#Uur to one file \n",
    "filelist=[]\n",
    "for i in tqdm(months):\n",
    "    dataframes=[]\n",
    "    thisdir = os.getcwd() + \"/Notebook\" +\"/\" +str(i)\n",
    "    for j in os.listdir(thisdir):\n",
    "        if j.isnumeric():\n",
    "            dir2 = os.listdir(thisdir+\"/\"+str(j))\n",
    "            for k in dir2:\n",
    "                if 'Reis_Bestemming_Uur' in k: \n",
    "                    file_dir = thisdir + \"/\" + j + \"/\" + k\n",
    "                    df = pd.read_csv(str(file_dir),sep=None,engine='python')\n",
    "                        #Clean stuff\n",
    "                    if \"AankomstHalteNaam\" in df.columns:\n",
    "                        df = df[df.AankomstHalteNaam != 'Overig']\n",
    "                        df = df[df.AankomstHalteNaam != '[[ Onbekend ]]']\n",
    "                    \n",
    "                    df = df.dropna()\n",
    "\n",
    "                    dataframes.append(df)\n",
    "    \n",
    "    merged = pd.concat(dataframes, ignore_index=True)\n",
    "    filelist.append(merged)\n",
    "    \n",
    "    \n",
    "final_merged_Uur = pd.concat(filelist, ignore_index=True)\n",
    "\n"
   ]
  },
  {
   "cell_type": "code",
   "execution_count": 19,
   "metadata": {},
   "outputs": [],
   "source": [
    "final_merged_Uur['Modaliteit'] = final_merged_Uur.AankomstHalteCode.str.isnumeric()\n",
    "final_merged_Uur.Modaliteit = final_merged_Uur.Modaliteit.replace(to_replace=[True],value='Tram of bus')\n",
    "final_merged_Uur.Modaliteit = final_merged_Uur.Modaliteit.replace(to_replace=[False],value='Metro')\n",
    "\n",
    "final_merged_Uur.Datum =pd.to_datetime(final_merged_Uur.Datum)\n",
    "\n",
    "final_merged_Uur = final_merged_Uur.sort_values(by=['Datum'])\n",
    "final_merged_Uur = final_merged_Uur.drop(\"Unnamed: 0\",axis=1)\n",
    "final_merged_Uur = final_merged_Uur.dropna()\n",
    "#final_merged_Uur.to_csv(\"Bestemming_Uur_merged.csv\")"
   ]
  },
  {
   "cell_type": "code",
   "execution_count": null,
   "metadata": {},
   "outputs": [],
   "source": []
  },
  {
   "cell_type": "code",
   "execution_count": 32,
   "metadata": {},
   "outputs": [
    {
     "data": {
      "text/html": [
       "<div>\n",
       "<style scoped>\n",
       "    .dataframe tbody tr th:only-of-type {\n",
       "        vertical-align: middle;\n",
       "    }\n",
       "\n",
       "    .dataframe tbody tr th {\n",
       "        vertical-align: top;\n",
       "    }\n",
       "\n",
       "    .dataframe thead th {\n",
       "        text-align: right;\n",
       "    }\n",
       "</style>\n",
       "<table border=\"1\" class=\"dataframe\">\n",
       "  <thead>\n",
       "    <tr style=\"text-align: right;\">\n",
       "      <th></th>\n",
       "      <th>Datum</th>\n",
       "      <th>UurgroepOmschrijving (van aankomst)</th>\n",
       "      <th>AankomstHalteCode</th>\n",
       "      <th>AankomstHalteNaam</th>\n",
       "      <th>AankomstLat</th>\n",
       "      <th>AankomstLon</th>\n",
       "      <th>AantalReizen</th>\n",
       "      <th>Modaliteit</th>\n",
       "    </tr>\n",
       "  </thead>\n",
       "  <tbody>\n",
       "    <tr>\n",
       "      <th>236050</th>\n",
       "      <td>2019-01-01</td>\n",
       "      <td>22:00 - 22:59</td>\n",
       "      <td>06045</td>\n",
       "      <td>1e Con. Huygensstraat</td>\n",
       "      <td>4.873992</td>\n",
       "      <td>52.362426</td>\n",
       "      <td>10</td>\n",
       "      <td>Tram of bus</td>\n",
       "    </tr>\n",
       "    <tr>\n",
       "      <th>236051</th>\n",
       "      <td>2019-01-01</td>\n",
       "      <td>22:00 - 22:59</td>\n",
       "      <td>06048</td>\n",
       "      <td>J.P. Heijestraat</td>\n",
       "      <td>4.865854</td>\n",
       "      <td>52.360377</td>\n",
       "      <td>24</td>\n",
       "      <td>Tram of bus</td>\n",
       "    </tr>\n",
       "    <tr>\n",
       "      <th>236052</th>\n",
       "      <td>2019-01-01</td>\n",
       "      <td>22:00 - 22:59</td>\n",
       "      <td>06062</td>\n",
       "      <td>Leidseplein</td>\n",
       "      <td>4.883246</td>\n",
       "      <td>52.363274</td>\n",
       "      <td>51</td>\n",
       "      <td>Tram of bus</td>\n",
       "    </tr>\n",
       "    <tr>\n",
       "      <th>236053</th>\n",
       "      <td>2019-01-01</td>\n",
       "      <td>22:00 - 22:59</td>\n",
       "      <td>06063</td>\n",
       "      <td>Leidseplein</td>\n",
       "      <td>4.880645</td>\n",
       "      <td>52.364764</td>\n",
       "      <td>41</td>\n",
       "      <td>Tram of bus</td>\n",
       "    </tr>\n",
       "    <tr>\n",
       "      <th>236054</th>\n",
       "      <td>2019-01-01</td>\n",
       "      <td>22:00 - 22:59</td>\n",
       "      <td>06067</td>\n",
       "      <td>Leidseplein</td>\n",
       "      <td>4.883014</td>\n",
       "      <td>52.364316</td>\n",
       "      <td>32</td>\n",
       "      <td>Tram of bus</td>\n",
       "    </tr>\n",
       "  </tbody>\n",
       "</table>\n",
       "</div>"
      ],
      "text/plain": [
       "            Datum UurgroepOmschrijving (van aankomst) AankomstHalteCode  \\\n",
       "236050 2019-01-01                       22:00 - 22:59             06045   \n",
       "236051 2019-01-01                       22:00 - 22:59             06048   \n",
       "236052 2019-01-01                       22:00 - 22:59             06062   \n",
       "236053 2019-01-01                       22:00 - 22:59             06063   \n",
       "236054 2019-01-01                       22:00 - 22:59             06067   \n",
       "\n",
       "            AankomstHalteNaam  AankomstLat  AankomstLon  AantalReizen  \\\n",
       "236050  1e Con. Huygensstraat     4.873992    52.362426            10   \n",
       "236051       J.P. Heijestraat     4.865854    52.360377            24   \n",
       "236052            Leidseplein     4.883246    52.363274            51   \n",
       "236053            Leidseplein     4.880645    52.364764            41   \n",
       "236054            Leidseplein     4.883014    52.364316            32   \n",
       "\n",
       "         Modaliteit  \n",
       "236050  Tram of bus  \n",
       "236051  Tram of bus  \n",
       "236052  Tram of bus  \n",
       "236053  Tram of bus  \n",
       "236054  Tram of bus  "
      ]
     },
     "execution_count": 32,
     "metadata": {},
     "output_type": "execute_result"
    }
   ],
   "source": [
    "final_merged_Uur.head()"
   ]
  },
  {
   "cell_type": "code",
   "execution_count": 22,
   "metadata": {},
   "outputs": [],
   "source": [
    "droppedduplicates = final_merged_Uur.drop_duplicates(subset=['AankomstHalteNaam']).dropna(axis=1)"
   ]
  },
  {
   "cell_type": "code",
   "execution_count": 23,
   "metadata": {},
   "outputs": [],
   "source": [
    "Final_merged_Uur_one_location = pd.merge(final_merged_Uur,droppedduplicates, on=\"AankomstHalteNaam\",how='outer')[[\"Datum_y\", \"AankomstHalteCode_x\", \"AankomstLat_y\",\"AankomstHalteNaam\" ,\"AankomstLon_y\", \"AantalReizen_x\", \"Modaliteit_x\"]]"
   ]
  },
  {
   "cell_type": "code",
   "execution_count": 31,
   "metadata": {},
   "outputs": [],
   "source": [
    "Final_merged_Uur_one_location.columns = [\"Datum\", \"AankomstHalteCode\", \"AankomstLat\",\"AankomstHalteNaam\" ,\"AankomstLon\", \"AantalReizen\", \"Modaliteit\"]"
   ]
  },
  {
   "cell_type": "code",
   "execution_count": 33,
   "metadata": {},
   "outputs": [],
   "source": [
    "Final_merged_Uur_one_location.to_csv(\"Bestemming_Uur_merged_one_location.csv\")"
   ]
  },
  {
   "cell_type": "code",
   "execution_count": 8,
   "metadata": {},
   "outputs": [],
   "source": [
    "pd.set_option('display.max_columns', 1000)  # or 1000\n",
    "pd.set_option('display.max_rows', 1000)  # or 1000\n",
    "pd.set_option('display.max_colwidth', 199)  # or 199"
   ]
  },
  {
   "cell_type": "code",
   "execution_count": 32,
   "metadata": {},
   "outputs": [],
   "source": []
  },
  {
   "cell_type": "code",
   "execution_count": 33,
   "metadata": {},
   "outputs": [],
   "source": [
    "final_merged_Uur.to_csv(\"Bestemming_Uur_merged.csv\")"
   ]
  },
  {
   "cell_type": "code",
   "execution_count": 34,
   "metadata": {},
   "outputs": [
    {
     "data": {
      "text/html": [
       "<div>\n",
       "<style scoped>\n",
       "    .dataframe tbody tr th:only-of-type {\n",
       "        vertical-align: middle;\n",
       "    }\n",
       "\n",
       "    .dataframe tbody tr th {\n",
       "        vertical-align: top;\n",
       "    }\n",
       "\n",
       "    .dataframe thead th {\n",
       "        text-align: right;\n",
       "    }\n",
       "</style>\n",
       "<table border=\"1\" class=\"dataframe\">\n",
       "  <thead>\n",
       "    <tr style=\"text-align: right;\">\n",
       "      <th></th>\n",
       "      <th>Datum</th>\n",
       "      <th>UurgroepOmschrijving (van aankomst)</th>\n",
       "      <th>AankomstHalteCode</th>\n",
       "      <th>AankomstHalteNaam</th>\n",
       "      <th>AankomstLat</th>\n",
       "      <th>AankomstLon</th>\n",
       "      <th>AantalReizen</th>\n",
       "      <th>Modaliteit</th>\n",
       "    </tr>\n",
       "  </thead>\n",
       "  <tbody>\n",
       "    <tr>\n",
       "      <th>232600</th>\n",
       "      <td>2019-01-01</td>\n",
       "      <td>11:00 - 11:59</td>\n",
       "      <td>08239</td>\n",
       "      <td>Rietlandpark</td>\n",
       "      <td>4.934136</td>\n",
       "      <td>52.372962</td>\n",
       "      <td>14</td>\n",
       "      <td>Tram of bus</td>\n",
       "    </tr>\n",
       "    <tr>\n",
       "      <th>232599</th>\n",
       "      <td>2019-01-01</td>\n",
       "      <td>11:00 - 11:59</td>\n",
       "      <td>08095</td>\n",
       "      <td>Alexanderplein</td>\n",
       "      <td>4.919699</td>\n",
       "      <td>52.363415</td>\n",
       "      <td>12</td>\n",
       "      <td>Tram of bus</td>\n",
       "    </tr>\n",
       "    <tr>\n",
       "      <th>232598</th>\n",
       "      <td>2019-01-01</td>\n",
       "      <td>11:00 - 11:59</td>\n",
       "      <td>08080</td>\n",
       "      <td>Spiegelgracht</td>\n",
       "      <td>4.886912</td>\n",
       "      <td>52.361070</td>\n",
       "      <td>86</td>\n",
       "      <td>Tram of bus</td>\n",
       "    </tr>\n",
       "    <tr>\n",
       "      <th>232597</th>\n",
       "      <td>2019-01-01</td>\n",
       "      <td>11:00 - 11:59</td>\n",
       "      <td>08078</td>\n",
       "      <td>Vijzelgracht</td>\n",
       "      <td>4.890934</td>\n",
       "      <td>52.359846</td>\n",
       "      <td>12</td>\n",
       "      <td>Tram of bus</td>\n",
       "    </tr>\n",
       "    <tr>\n",
       "      <th>232604</th>\n",
       "      <td>2019-01-01</td>\n",
       "      <td>11:00 - 11:59</td>\n",
       "      <td>08252</td>\n",
       "      <td>IJburg</td>\n",
       "      <td>5.004326</td>\n",
       "      <td>52.350956</td>\n",
       "      <td>17</td>\n",
       "      <td>Tram of bus</td>\n",
       "    </tr>\n",
       "    <tr>\n",
       "      <th>...</th>\n",
       "      <td>...</td>\n",
       "      <td>...</td>\n",
       "      <td>...</td>\n",
       "      <td>...</td>\n",
       "      <td>...</td>\n",
       "      <td>...</td>\n",
       "      <td>...</td>\n",
       "      <td>...</td>\n",
       "    </tr>\n",
       "    <tr>\n",
       "      <th>9334753</th>\n",
       "      <td>2020-12-13</td>\n",
       "      <td>23:00 - 23:59</td>\n",
       "      <td>WLP</td>\n",
       "      <td>Waterlooplein</td>\n",
       "      <td>4.902982</td>\n",
       "      <td>52.366979</td>\n",
       "      <td>14</td>\n",
       "      <td>Metro</td>\n",
       "    </tr>\n",
       "    <tr>\n",
       "      <th>9333543</th>\n",
       "      <td>2020-12-13</td>\n",
       "      <td>15:00 - 15:59</td>\n",
       "      <td>06030</td>\n",
       "      <td>Rozengracht</td>\n",
       "      <td>4.875909</td>\n",
       "      <td>52.371880</td>\n",
       "      <td>22</td>\n",
       "      <td>Tram of bus</td>\n",
       "    </tr>\n",
       "    <tr>\n",
       "      <th>9334739</th>\n",
       "      <td>2020-12-13</td>\n",
       "      <td>23:00 - 23:59</td>\n",
       "      <td>ND</td>\n",
       "      <td>Noord</td>\n",
       "      <td>4.931232</td>\n",
       "      <td>52.401172</td>\n",
       "      <td>140</td>\n",
       "      <td>Metro</td>\n",
       "    </tr>\n",
       "    <tr>\n",
       "      <th>9334738</th>\n",
       "      <td>2020-12-13</td>\n",
       "      <td>23:00 - 23:59</td>\n",
       "      <td>KEN</td>\n",
       "      <td>Kraaienneststation</td>\n",
       "      <td>4.979635</td>\n",
       "      <td>52.316325</td>\n",
       "      <td>39</td>\n",
       "      <td>Metro</td>\n",
       "    </tr>\n",
       "    <tr>\n",
       "      <th>9334755</th>\n",
       "      <td>2020-12-13</td>\n",
       "      <td>23:00 - 23:59</td>\n",
       "      <td>WTC</td>\n",
       "      <td>Station Zuid</td>\n",
       "      <td>4.875099</td>\n",
       "      <td>52.339080</td>\n",
       "      <td>70</td>\n",
       "      <td>Metro</td>\n",
       "    </tr>\n",
       "  </tbody>\n",
       "</table>\n",
       "<p>4301317 rows × 8 columns</p>\n",
       "</div>"
      ],
      "text/plain": [
       "             Datum UurgroepOmschrijving (van aankomst) AankomstHalteCode  \\\n",
       "232600  2019-01-01                       11:00 - 11:59             08239   \n",
       "232599  2019-01-01                       11:00 - 11:59             08095   \n",
       "232598  2019-01-01                       11:00 - 11:59             08080   \n",
       "232597  2019-01-01                       11:00 - 11:59             08078   \n",
       "232604  2019-01-01                       11:00 - 11:59             08252   \n",
       "...            ...                                 ...               ...   \n",
       "9334753 2020-12-13                       23:00 - 23:59               WLP   \n",
       "9333543 2020-12-13                       15:00 - 15:59             06030   \n",
       "9334739 2020-12-13                       23:00 - 23:59                ND   \n",
       "9334738 2020-12-13                       23:00 - 23:59               KEN   \n",
       "9334755 2020-12-13                       23:00 - 23:59               WTC   \n",
       "\n",
       "          AankomstHalteNaam  AankomstLat  AankomstLon  AantalReizen  \\\n",
       "232600         Rietlandpark     4.934136    52.372962            14   \n",
       "232599       Alexanderplein     4.919699    52.363415            12   \n",
       "232598        Spiegelgracht     4.886912    52.361070            86   \n",
       "232597         Vijzelgracht     4.890934    52.359846            12   \n",
       "232604               IJburg     5.004326    52.350956            17   \n",
       "...                     ...          ...          ...           ...   \n",
       "9334753       Waterlooplein     4.902982    52.366979            14   \n",
       "9333543         Rozengracht     4.875909    52.371880            22   \n",
       "9334739               Noord     4.931232    52.401172           140   \n",
       "9334738  Kraaienneststation     4.979635    52.316325            39   \n",
       "9334755        Station Zuid     4.875099    52.339080            70   \n",
       "\n",
       "          Modaliteit  \n",
       "232600   Tram of bus  \n",
       "232599   Tram of bus  \n",
       "232598   Tram of bus  \n",
       "232597   Tram of bus  \n",
       "232604   Tram of bus  \n",
       "...              ...  \n",
       "9334753        Metro  \n",
       "9333543  Tram of bus  \n",
       "9334739        Metro  \n",
       "9334738        Metro  \n",
       "9334755        Metro  \n",
       "\n",
       "[4301317 rows x 8 columns]"
      ]
     },
     "execution_count": 34,
     "metadata": {},
     "output_type": "execute_result"
    }
   ],
   "source": [
    "final_merged_Uur"
   ]
  },
  {
   "cell_type": "code",
   "execution_count": null,
   "metadata": {},
   "outputs": [],
   "source": []
  },
  {
   "cell_type": "code",
   "execution_count": null,
   "metadata": {},
   "outputs": [],
   "source": []
  },
  {
   "cell_type": "code",
   "execution_count": null,
   "metadata": {},
   "outputs": [],
   "source": []
  },
  {
   "cell_type": "code",
   "execution_count": null,
   "metadata": {},
   "outputs": [],
   "source": []
  },
  {
   "cell_type": "code",
   "execution_count": null,
   "metadata": {},
   "outputs": [],
   "source": []
  },
  {
   "cell_type": "code",
   "execution_count": null,
   "metadata": {},
   "outputs": [],
   "source": []
  },
  {
   "cell_type": "code",
   "execution_count": null,
   "metadata": {},
   "outputs": [],
   "source": []
  },
  {
   "cell_type": "code",
   "execution_count": null,
   "metadata": {},
   "outputs": [],
   "source": []
  },
  {
   "cell_type": "code",
   "execution_count": null,
   "metadata": {},
   "outputs": [],
   "source": []
  },
  {
   "cell_type": "code",
   "execution_count": null,
   "metadata": {},
   "outputs": [],
   "source": [
    "\n"
   ]
  },
  {
   "cell_type": "code",
   "execution_count": null,
   "metadata": {},
   "outputs": [],
   "source": []
  }
 ],
 "metadata": {
  "kernelspec": {
   "display_name": "Python 3",
   "language": "python",
   "name": "python3"
  },
  "language_info": {
   "codemirror_mode": {
    "name": "ipython",
    "version": 3
   },
   "file_extension": ".py",
   "mimetype": "text/x-python",
   "name": "python",
   "nbconvert_exporter": "python",
   "pygments_lexer": "ipython3",
   "version": "3.8.3"
  }
 },
 "nbformat": 4,
 "nbformat_minor": 4
}
