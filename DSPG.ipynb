{
 "cells": [
  {
   "cell_type": "code",
   "execution_count": 17,
   "metadata": {},
   "outputs": [],
   "source": [
    "import pandas as pd\n",
    "import numpy as np\n",
    "import matplotlib.pylab as plt\n",
    "import seaborn as sns\n",
    "import os\n",
    "from pathlib import Path\n",
    "import seaborn as sns\n",
    "from tqdm import tqdm\n",
    "import glob"
   ]
  },
  {
   "cell_type": "code",
   "execution_count": 31,
   "metadata": {},
   "outputs": [
    {
     "name": "stdout",
     "output_type": "stream",
     "text": [
      "['03', '04', '05', '02', '11', '10', '07', '09', '08', '01', '06', '12']\n"
     ]
    },
    {
     "data": {
      "text/plain": [
       "'/Users/martijn/Documents/Data Science/Data Systems Project.nosync/Data/gvb/2020'"
      ]
     },
     "execution_count": 31,
     "metadata": {},
     "output_type": "execute_result"
    }
   ],
   "source": [
    "dir_string = '/Users/martijn/Documents/Data Science/Data Systems Project.nosync/Data/gvb/2020'\n",
    "#dir_string = os.getcwd() + \"/Notebook\"\n",
    "\n",
    "dirlist = os.listdir(dir_string)\n",
    "months = [i for i in dirlist if str(i).isnumeric() and not i.startswith('.')]\n",
    "\n",
    "print(dirlist)\n",
    "\n",
    "dir_string"
   ]
  },
  {
   "cell_type": "code",
   "execution_count": 28,
   "metadata": {},
   "outputs": [
    {
     "name": "stderr",
     "output_type": "stream",
     "text": [
      " 75%|███████▌  | 9/12 [00:05<00:01,  1.55it/s]\n"
     ]
    },
    {
     "ename": "EmptyDataError",
     "evalue": "No columns to parse from file",
     "output_type": "error",
     "traceback": [
      "\u001b[0;31m---------------------------------------------------------------------------\u001b[0m",
      "\u001b[0;31mEmptyDataError\u001b[0m                            Traceback (most recent call last)",
      "\u001b[0;32m<ipython-input-28-2cd3e205dbcd>\u001b[0m in \u001b[0;36m<module>\u001b[0;34m\u001b[0m\n\u001b[1;32m      9\u001b[0m                 \u001b[0;32mif\u001b[0m \u001b[0;34m'Reis_Bestemming_Datum'\u001b[0m \u001b[0;32min\u001b[0m \u001b[0mk\u001b[0m\u001b[0;34m:\u001b[0m\u001b[0;34m\u001b[0m\u001b[0;34m\u001b[0m\u001b[0m\n\u001b[1;32m     10\u001b[0m                     \u001b[0mfile_dir\u001b[0m \u001b[0;34m=\u001b[0m \u001b[0mthisdir\u001b[0m \u001b[0;34m+\u001b[0m \u001b[0;34m\"/\"\u001b[0m \u001b[0;34m+\u001b[0m \u001b[0mj\u001b[0m \u001b[0;34m+\u001b[0m \u001b[0;34m\"/\"\u001b[0m \u001b[0;34m+\u001b[0m \u001b[0mk\u001b[0m\u001b[0;34m\u001b[0m\u001b[0;34m\u001b[0m\u001b[0m\n\u001b[0;32m---> 11\u001b[0;31m                     \u001b[0mdf\u001b[0m \u001b[0;34m=\u001b[0m \u001b[0mpd\u001b[0m\u001b[0;34m.\u001b[0m\u001b[0mread_csv\u001b[0m\u001b[0;34m(\u001b[0m\u001b[0mstr\u001b[0m\u001b[0;34m(\u001b[0m\u001b[0mfile_dir\u001b[0m\u001b[0;34m)\u001b[0m\u001b[0;34m,\u001b[0m\u001b[0msep\u001b[0m\u001b[0;34m=\u001b[0m\u001b[0;34m';'\u001b[0m\u001b[0;34m)\u001b[0m\u001b[0;34m\u001b[0m\u001b[0;34m\u001b[0m\u001b[0m\n\u001b[0m\u001b[1;32m     12\u001b[0m                     \u001b[0;31m#Clean stuff\u001b[0m\u001b[0;34m\u001b[0m\u001b[0;34m\u001b[0m\u001b[0;34m\u001b[0m\u001b[0m\n\u001b[1;32m     13\u001b[0m                     \u001b[0mdf\u001b[0m \u001b[0;34m=\u001b[0m \u001b[0mdf\u001b[0m\u001b[0;34m[\u001b[0m\u001b[0mdf\u001b[0m\u001b[0;34m.\u001b[0m\u001b[0mAankomstHalteNaam\u001b[0m \u001b[0;34m!=\u001b[0m \u001b[0;34m'Overig'\u001b[0m\u001b[0;34m]\u001b[0m\u001b[0;34m\u001b[0m\u001b[0;34m\u001b[0m\u001b[0m\n",
      "\u001b[0;32m/Library/Frameworks/Python.framework/Versions/3.8/lib/python3.8/site-packages/pandas/io/parsers.py\u001b[0m in \u001b[0;36mread_csv\u001b[0;34m(filepath_or_buffer, sep, delimiter, header, names, index_col, usecols, squeeze, prefix, mangle_dupe_cols, dtype, engine, converters, true_values, false_values, skipinitialspace, skiprows, skipfooter, nrows, na_values, keep_default_na, na_filter, verbose, skip_blank_lines, parse_dates, infer_datetime_format, keep_date_col, date_parser, dayfirst, cache_dates, iterator, chunksize, compression, thousands, decimal, lineterminator, quotechar, quoting, doublequote, escapechar, comment, encoding, dialect, error_bad_lines, warn_bad_lines, delim_whitespace, low_memory, memory_map, float_precision)\u001b[0m\n\u001b[1;32m    686\u001b[0m     )\n\u001b[1;32m    687\u001b[0m \u001b[0;34m\u001b[0m\u001b[0m\n\u001b[0;32m--> 688\u001b[0;31m     \u001b[0;32mreturn\u001b[0m \u001b[0m_read\u001b[0m\u001b[0;34m(\u001b[0m\u001b[0mfilepath_or_buffer\u001b[0m\u001b[0;34m,\u001b[0m \u001b[0mkwds\u001b[0m\u001b[0;34m)\u001b[0m\u001b[0;34m\u001b[0m\u001b[0;34m\u001b[0m\u001b[0m\n\u001b[0m\u001b[1;32m    689\u001b[0m \u001b[0;34m\u001b[0m\u001b[0m\n\u001b[1;32m    690\u001b[0m \u001b[0;34m\u001b[0m\u001b[0m\n",
      "\u001b[0;32m/Library/Frameworks/Python.framework/Versions/3.8/lib/python3.8/site-packages/pandas/io/parsers.py\u001b[0m in \u001b[0;36m_read\u001b[0;34m(filepath_or_buffer, kwds)\u001b[0m\n\u001b[1;32m    452\u001b[0m \u001b[0;34m\u001b[0m\u001b[0m\n\u001b[1;32m    453\u001b[0m     \u001b[0;31m# Create the parser.\u001b[0m\u001b[0;34m\u001b[0m\u001b[0;34m\u001b[0m\u001b[0;34m\u001b[0m\u001b[0m\n\u001b[0;32m--> 454\u001b[0;31m     \u001b[0mparser\u001b[0m \u001b[0;34m=\u001b[0m \u001b[0mTextFileReader\u001b[0m\u001b[0;34m(\u001b[0m\u001b[0mfp_or_buf\u001b[0m\u001b[0;34m,\u001b[0m \u001b[0;34m**\u001b[0m\u001b[0mkwds\u001b[0m\u001b[0;34m)\u001b[0m\u001b[0;34m\u001b[0m\u001b[0;34m\u001b[0m\u001b[0m\n\u001b[0m\u001b[1;32m    455\u001b[0m \u001b[0;34m\u001b[0m\u001b[0m\n\u001b[1;32m    456\u001b[0m     \u001b[0;32mif\u001b[0m \u001b[0mchunksize\u001b[0m \u001b[0;32mor\u001b[0m \u001b[0miterator\u001b[0m\u001b[0;34m:\u001b[0m\u001b[0;34m\u001b[0m\u001b[0;34m\u001b[0m\u001b[0m\n",
      "\u001b[0;32m/Library/Frameworks/Python.framework/Versions/3.8/lib/python3.8/site-packages/pandas/io/parsers.py\u001b[0m in \u001b[0;36m__init__\u001b[0;34m(self, f, engine, **kwds)\u001b[0m\n\u001b[1;32m    946\u001b[0m             \u001b[0mself\u001b[0m\u001b[0;34m.\u001b[0m\u001b[0moptions\u001b[0m\u001b[0;34m[\u001b[0m\u001b[0;34m\"has_index_names\"\u001b[0m\u001b[0;34m]\u001b[0m \u001b[0;34m=\u001b[0m \u001b[0mkwds\u001b[0m\u001b[0;34m[\u001b[0m\u001b[0;34m\"has_index_names\"\u001b[0m\u001b[0;34m]\u001b[0m\u001b[0;34m\u001b[0m\u001b[0;34m\u001b[0m\u001b[0m\n\u001b[1;32m    947\u001b[0m \u001b[0;34m\u001b[0m\u001b[0m\n\u001b[0;32m--> 948\u001b[0;31m         \u001b[0mself\u001b[0m\u001b[0;34m.\u001b[0m\u001b[0m_make_engine\u001b[0m\u001b[0;34m(\u001b[0m\u001b[0mself\u001b[0m\u001b[0;34m.\u001b[0m\u001b[0mengine\u001b[0m\u001b[0;34m)\u001b[0m\u001b[0;34m\u001b[0m\u001b[0;34m\u001b[0m\u001b[0m\n\u001b[0m\u001b[1;32m    949\u001b[0m \u001b[0;34m\u001b[0m\u001b[0m\n\u001b[1;32m    950\u001b[0m     \u001b[0;32mdef\u001b[0m \u001b[0mclose\u001b[0m\u001b[0;34m(\u001b[0m\u001b[0mself\u001b[0m\u001b[0;34m)\u001b[0m\u001b[0;34m:\u001b[0m\u001b[0;34m\u001b[0m\u001b[0;34m\u001b[0m\u001b[0m\n",
      "\u001b[0;32m/Library/Frameworks/Python.framework/Versions/3.8/lib/python3.8/site-packages/pandas/io/parsers.py\u001b[0m in \u001b[0;36m_make_engine\u001b[0;34m(self, engine)\u001b[0m\n\u001b[1;32m   1178\u001b[0m     \u001b[0;32mdef\u001b[0m \u001b[0m_make_engine\u001b[0m\u001b[0;34m(\u001b[0m\u001b[0mself\u001b[0m\u001b[0;34m,\u001b[0m \u001b[0mengine\u001b[0m\u001b[0;34m=\u001b[0m\u001b[0;34m\"c\"\u001b[0m\u001b[0;34m)\u001b[0m\u001b[0;34m:\u001b[0m\u001b[0;34m\u001b[0m\u001b[0;34m\u001b[0m\u001b[0m\n\u001b[1;32m   1179\u001b[0m         \u001b[0;32mif\u001b[0m \u001b[0mengine\u001b[0m \u001b[0;34m==\u001b[0m \u001b[0;34m\"c\"\u001b[0m\u001b[0;34m:\u001b[0m\u001b[0;34m\u001b[0m\u001b[0;34m\u001b[0m\u001b[0m\n\u001b[0;32m-> 1180\u001b[0;31m             \u001b[0mself\u001b[0m\u001b[0;34m.\u001b[0m\u001b[0m_engine\u001b[0m \u001b[0;34m=\u001b[0m \u001b[0mCParserWrapper\u001b[0m\u001b[0;34m(\u001b[0m\u001b[0mself\u001b[0m\u001b[0;34m.\u001b[0m\u001b[0mf\u001b[0m\u001b[0;34m,\u001b[0m \u001b[0;34m**\u001b[0m\u001b[0mself\u001b[0m\u001b[0;34m.\u001b[0m\u001b[0moptions\u001b[0m\u001b[0;34m)\u001b[0m\u001b[0;34m\u001b[0m\u001b[0;34m\u001b[0m\u001b[0m\n\u001b[0m\u001b[1;32m   1181\u001b[0m         \u001b[0;32melse\u001b[0m\u001b[0;34m:\u001b[0m\u001b[0;34m\u001b[0m\u001b[0;34m\u001b[0m\u001b[0m\n\u001b[1;32m   1182\u001b[0m             \u001b[0;32mif\u001b[0m \u001b[0mengine\u001b[0m \u001b[0;34m==\u001b[0m \u001b[0;34m\"python\"\u001b[0m\u001b[0;34m:\u001b[0m\u001b[0;34m\u001b[0m\u001b[0;34m\u001b[0m\u001b[0m\n",
      "\u001b[0;32m/Library/Frameworks/Python.framework/Versions/3.8/lib/python3.8/site-packages/pandas/io/parsers.py\u001b[0m in \u001b[0;36m__init__\u001b[0;34m(self, src, **kwds)\u001b[0m\n\u001b[1;32m   2008\u001b[0m         \u001b[0mkwds\u001b[0m\u001b[0;34m[\u001b[0m\u001b[0;34m\"usecols\"\u001b[0m\u001b[0;34m]\u001b[0m \u001b[0;34m=\u001b[0m \u001b[0mself\u001b[0m\u001b[0;34m.\u001b[0m\u001b[0musecols\u001b[0m\u001b[0;34m\u001b[0m\u001b[0;34m\u001b[0m\u001b[0m\n\u001b[1;32m   2009\u001b[0m \u001b[0;34m\u001b[0m\u001b[0m\n\u001b[0;32m-> 2010\u001b[0;31m         \u001b[0mself\u001b[0m\u001b[0;34m.\u001b[0m\u001b[0m_reader\u001b[0m \u001b[0;34m=\u001b[0m \u001b[0mparsers\u001b[0m\u001b[0;34m.\u001b[0m\u001b[0mTextReader\u001b[0m\u001b[0;34m(\u001b[0m\u001b[0msrc\u001b[0m\u001b[0;34m,\u001b[0m \u001b[0;34m**\u001b[0m\u001b[0mkwds\u001b[0m\u001b[0;34m)\u001b[0m\u001b[0;34m\u001b[0m\u001b[0;34m\u001b[0m\u001b[0m\n\u001b[0m\u001b[1;32m   2011\u001b[0m         \u001b[0mself\u001b[0m\u001b[0;34m.\u001b[0m\u001b[0munnamed_cols\u001b[0m \u001b[0;34m=\u001b[0m \u001b[0mself\u001b[0m\u001b[0;34m.\u001b[0m\u001b[0m_reader\u001b[0m\u001b[0;34m.\u001b[0m\u001b[0munnamed_cols\u001b[0m\u001b[0;34m\u001b[0m\u001b[0;34m\u001b[0m\u001b[0m\n\u001b[1;32m   2012\u001b[0m \u001b[0;34m\u001b[0m\u001b[0m\n",
      "\u001b[0;32mpandas/_libs/parsers.pyx\u001b[0m in \u001b[0;36mpandas._libs.parsers.TextReader.__cinit__\u001b[0;34m()\u001b[0m\n",
      "\u001b[0;31mEmptyDataError\u001b[0m: No columns to parse from file"
     ]
    }
   ],
   "source": [
    "#All to seperate monthly files\n",
    "for i in tqdm(months):\n",
    "    dataframes=[]\n",
    "    thisdir = path + \"/\" + str(i)\n",
    "    for j in os.listdir(thisdir):\n",
    "        if j.isnumeric() and not j.startswith('.'):\n",
    "            dir2 = os.listdir(thisdir + \"/\" + str(j))\n",
    "            for k in dir2:\n",
    "                if 'Reis_Bestemming_Datum' in k: \n",
    "                    file_dir = thisdir + \"/\" + j + \"/\" + k\n",
    "                    df = pd.read_csv(str(file_dir),sep=';')\n",
    "                    #Clean stuff\n",
    "                    df = df[df.AankomstHalteNaam != 'Overig']\n",
    "                    df = df[df.AankomstHalteNaam != '[[ Onbekend ]]']\n",
    "                    \n",
    "                    df = df.dropna()\n",
    "\n",
    "                    df = df.sort_values(by=['Datum'])\n",
    "                    dataframes.append(df)\n",
    "                    \n",
    "    merged = pd.concat(dataframes, ignore_index=True)\n",
    "    merged.to_csv('merged' + str(i) + \".csv\")\n",
    "        \n",
    "    "
   ]
  },
  {
   "cell_type": "code",
   "execution_count": 32,
   "metadata": {},
   "outputs": [
    {
     "name": "stderr",
     "output_type": "stream",
     "text": [
      " 75%|███████▌  | 9/12 [00:01<00:00,  6.38it/s]\n"
     ]
    },
    {
     "ename": "EmptyDataError",
     "evalue": "No columns to parse from file",
     "output_type": "error",
     "traceback": [
      "\u001b[0;31m---------------------------------------------------------------------------\u001b[0m",
      "\u001b[0;31mEmptyDataError\u001b[0m                            Traceback (most recent call last)",
      "\u001b[0;32m<ipython-input-32-668f43fc27d1>\u001b[0m in \u001b[0;36m<module>\u001b[0;34m\u001b[0m\n\u001b[1;32m     10\u001b[0m                 \u001b[0;32mif\u001b[0m \u001b[0;34m'Reis_Bestemming_Datum'\u001b[0m \u001b[0;32min\u001b[0m \u001b[0mk\u001b[0m\u001b[0;34m:\u001b[0m\u001b[0;34m\u001b[0m\u001b[0;34m\u001b[0m\u001b[0m\n\u001b[1;32m     11\u001b[0m                     \u001b[0mfile_dir\u001b[0m \u001b[0;34m=\u001b[0m \u001b[0mthisdir\u001b[0m \u001b[0;34m+\u001b[0m \u001b[0;34m\"/\"\u001b[0m \u001b[0;34m+\u001b[0m \u001b[0mj\u001b[0m \u001b[0;34m+\u001b[0m \u001b[0;34m\"/\"\u001b[0m \u001b[0;34m+\u001b[0m \u001b[0mk\u001b[0m\u001b[0;34m\u001b[0m\u001b[0;34m\u001b[0m\u001b[0m\n\u001b[0;32m---> 12\u001b[0;31m                     \u001b[0mdf\u001b[0m \u001b[0;34m=\u001b[0m \u001b[0mpd\u001b[0m\u001b[0;34m.\u001b[0m\u001b[0mread_csv\u001b[0m\u001b[0;34m(\u001b[0m\u001b[0mstr\u001b[0m\u001b[0;34m(\u001b[0m\u001b[0mfile_dir\u001b[0m\u001b[0;34m)\u001b[0m\u001b[0;34m,\u001b[0m\u001b[0msep\u001b[0m\u001b[0;34m=\u001b[0m\u001b[0;34m';'\u001b[0m\u001b[0;34m)\u001b[0m\u001b[0;34m\u001b[0m\u001b[0;34m\u001b[0m\u001b[0m\n\u001b[0m\u001b[1;32m     13\u001b[0m                     \u001b[0;31m#Clean stuff\u001b[0m\u001b[0;34m\u001b[0m\u001b[0;34m\u001b[0m\u001b[0;34m\u001b[0m\u001b[0m\n\u001b[1;32m     14\u001b[0m                     \u001b[0mdf\u001b[0m \u001b[0;34m=\u001b[0m \u001b[0mdf\u001b[0m\u001b[0;34m[\u001b[0m\u001b[0mdf\u001b[0m\u001b[0;34m.\u001b[0m\u001b[0mAankomstHalteNaam\u001b[0m \u001b[0;34m!=\u001b[0m \u001b[0;34m'Overig'\u001b[0m\u001b[0;34m]\u001b[0m\u001b[0;34m\u001b[0m\u001b[0;34m\u001b[0m\u001b[0m\n",
      "\u001b[0;32m/Library/Frameworks/Python.framework/Versions/3.8/lib/python3.8/site-packages/pandas/io/parsers.py\u001b[0m in \u001b[0;36mread_csv\u001b[0;34m(filepath_or_buffer, sep, delimiter, header, names, index_col, usecols, squeeze, prefix, mangle_dupe_cols, dtype, engine, converters, true_values, false_values, skipinitialspace, skiprows, skipfooter, nrows, na_values, keep_default_na, na_filter, verbose, skip_blank_lines, parse_dates, infer_datetime_format, keep_date_col, date_parser, dayfirst, cache_dates, iterator, chunksize, compression, thousands, decimal, lineterminator, quotechar, quoting, doublequote, escapechar, comment, encoding, dialect, error_bad_lines, warn_bad_lines, delim_whitespace, low_memory, memory_map, float_precision)\u001b[0m\n\u001b[1;32m    686\u001b[0m     )\n\u001b[1;32m    687\u001b[0m \u001b[0;34m\u001b[0m\u001b[0m\n\u001b[0;32m--> 688\u001b[0;31m     \u001b[0;32mreturn\u001b[0m \u001b[0m_read\u001b[0m\u001b[0;34m(\u001b[0m\u001b[0mfilepath_or_buffer\u001b[0m\u001b[0;34m,\u001b[0m \u001b[0mkwds\u001b[0m\u001b[0;34m)\u001b[0m\u001b[0;34m\u001b[0m\u001b[0;34m\u001b[0m\u001b[0m\n\u001b[0m\u001b[1;32m    689\u001b[0m \u001b[0;34m\u001b[0m\u001b[0m\n\u001b[1;32m    690\u001b[0m \u001b[0;34m\u001b[0m\u001b[0m\n",
      "\u001b[0;32m/Library/Frameworks/Python.framework/Versions/3.8/lib/python3.8/site-packages/pandas/io/parsers.py\u001b[0m in \u001b[0;36m_read\u001b[0;34m(filepath_or_buffer, kwds)\u001b[0m\n\u001b[1;32m    452\u001b[0m \u001b[0;34m\u001b[0m\u001b[0m\n\u001b[1;32m    453\u001b[0m     \u001b[0;31m# Create the parser.\u001b[0m\u001b[0;34m\u001b[0m\u001b[0;34m\u001b[0m\u001b[0;34m\u001b[0m\u001b[0m\n\u001b[0;32m--> 454\u001b[0;31m     \u001b[0mparser\u001b[0m \u001b[0;34m=\u001b[0m \u001b[0mTextFileReader\u001b[0m\u001b[0;34m(\u001b[0m\u001b[0mfp_or_buf\u001b[0m\u001b[0;34m,\u001b[0m \u001b[0;34m**\u001b[0m\u001b[0mkwds\u001b[0m\u001b[0;34m)\u001b[0m\u001b[0;34m\u001b[0m\u001b[0;34m\u001b[0m\u001b[0m\n\u001b[0m\u001b[1;32m    455\u001b[0m \u001b[0;34m\u001b[0m\u001b[0m\n\u001b[1;32m    456\u001b[0m     \u001b[0;32mif\u001b[0m \u001b[0mchunksize\u001b[0m \u001b[0;32mor\u001b[0m \u001b[0miterator\u001b[0m\u001b[0;34m:\u001b[0m\u001b[0;34m\u001b[0m\u001b[0;34m\u001b[0m\u001b[0m\n",
      "\u001b[0;32m/Library/Frameworks/Python.framework/Versions/3.8/lib/python3.8/site-packages/pandas/io/parsers.py\u001b[0m in \u001b[0;36m__init__\u001b[0;34m(self, f, engine, **kwds)\u001b[0m\n\u001b[1;32m    946\u001b[0m             \u001b[0mself\u001b[0m\u001b[0;34m.\u001b[0m\u001b[0moptions\u001b[0m\u001b[0;34m[\u001b[0m\u001b[0;34m\"has_index_names\"\u001b[0m\u001b[0;34m]\u001b[0m \u001b[0;34m=\u001b[0m \u001b[0mkwds\u001b[0m\u001b[0;34m[\u001b[0m\u001b[0;34m\"has_index_names\"\u001b[0m\u001b[0;34m]\u001b[0m\u001b[0;34m\u001b[0m\u001b[0;34m\u001b[0m\u001b[0m\n\u001b[1;32m    947\u001b[0m \u001b[0;34m\u001b[0m\u001b[0m\n\u001b[0;32m--> 948\u001b[0;31m         \u001b[0mself\u001b[0m\u001b[0;34m.\u001b[0m\u001b[0m_make_engine\u001b[0m\u001b[0;34m(\u001b[0m\u001b[0mself\u001b[0m\u001b[0;34m.\u001b[0m\u001b[0mengine\u001b[0m\u001b[0;34m)\u001b[0m\u001b[0;34m\u001b[0m\u001b[0;34m\u001b[0m\u001b[0m\n\u001b[0m\u001b[1;32m    949\u001b[0m \u001b[0;34m\u001b[0m\u001b[0m\n\u001b[1;32m    950\u001b[0m     \u001b[0;32mdef\u001b[0m \u001b[0mclose\u001b[0m\u001b[0;34m(\u001b[0m\u001b[0mself\u001b[0m\u001b[0;34m)\u001b[0m\u001b[0;34m:\u001b[0m\u001b[0;34m\u001b[0m\u001b[0;34m\u001b[0m\u001b[0m\n",
      "\u001b[0;32m/Library/Frameworks/Python.framework/Versions/3.8/lib/python3.8/site-packages/pandas/io/parsers.py\u001b[0m in \u001b[0;36m_make_engine\u001b[0;34m(self, engine)\u001b[0m\n\u001b[1;32m   1178\u001b[0m     \u001b[0;32mdef\u001b[0m \u001b[0m_make_engine\u001b[0m\u001b[0;34m(\u001b[0m\u001b[0mself\u001b[0m\u001b[0;34m,\u001b[0m \u001b[0mengine\u001b[0m\u001b[0;34m=\u001b[0m\u001b[0;34m\"c\"\u001b[0m\u001b[0;34m)\u001b[0m\u001b[0;34m:\u001b[0m\u001b[0;34m\u001b[0m\u001b[0;34m\u001b[0m\u001b[0m\n\u001b[1;32m   1179\u001b[0m         \u001b[0;32mif\u001b[0m \u001b[0mengine\u001b[0m \u001b[0;34m==\u001b[0m \u001b[0;34m\"c\"\u001b[0m\u001b[0;34m:\u001b[0m\u001b[0;34m\u001b[0m\u001b[0;34m\u001b[0m\u001b[0m\n\u001b[0;32m-> 1180\u001b[0;31m             \u001b[0mself\u001b[0m\u001b[0;34m.\u001b[0m\u001b[0m_engine\u001b[0m \u001b[0;34m=\u001b[0m \u001b[0mCParserWrapper\u001b[0m\u001b[0;34m(\u001b[0m\u001b[0mself\u001b[0m\u001b[0;34m.\u001b[0m\u001b[0mf\u001b[0m\u001b[0;34m,\u001b[0m \u001b[0;34m**\u001b[0m\u001b[0mself\u001b[0m\u001b[0;34m.\u001b[0m\u001b[0moptions\u001b[0m\u001b[0;34m)\u001b[0m\u001b[0;34m\u001b[0m\u001b[0;34m\u001b[0m\u001b[0m\n\u001b[0m\u001b[1;32m   1181\u001b[0m         \u001b[0;32melse\u001b[0m\u001b[0;34m:\u001b[0m\u001b[0;34m\u001b[0m\u001b[0;34m\u001b[0m\u001b[0m\n\u001b[1;32m   1182\u001b[0m             \u001b[0;32mif\u001b[0m \u001b[0mengine\u001b[0m \u001b[0;34m==\u001b[0m \u001b[0;34m\"python\"\u001b[0m\u001b[0;34m:\u001b[0m\u001b[0;34m\u001b[0m\u001b[0;34m\u001b[0m\u001b[0m\n",
      "\u001b[0;32m/Library/Frameworks/Python.framework/Versions/3.8/lib/python3.8/site-packages/pandas/io/parsers.py\u001b[0m in \u001b[0;36m__init__\u001b[0;34m(self, src, **kwds)\u001b[0m\n\u001b[1;32m   2008\u001b[0m         \u001b[0mkwds\u001b[0m\u001b[0;34m[\u001b[0m\u001b[0;34m\"usecols\"\u001b[0m\u001b[0;34m]\u001b[0m \u001b[0;34m=\u001b[0m \u001b[0mself\u001b[0m\u001b[0;34m.\u001b[0m\u001b[0musecols\u001b[0m\u001b[0;34m\u001b[0m\u001b[0;34m\u001b[0m\u001b[0m\n\u001b[1;32m   2009\u001b[0m \u001b[0;34m\u001b[0m\u001b[0m\n\u001b[0;32m-> 2010\u001b[0;31m         \u001b[0mself\u001b[0m\u001b[0;34m.\u001b[0m\u001b[0m_reader\u001b[0m \u001b[0;34m=\u001b[0m \u001b[0mparsers\u001b[0m\u001b[0;34m.\u001b[0m\u001b[0mTextReader\u001b[0m\u001b[0;34m(\u001b[0m\u001b[0msrc\u001b[0m\u001b[0;34m,\u001b[0m \u001b[0;34m**\u001b[0m\u001b[0mkwds\u001b[0m\u001b[0;34m)\u001b[0m\u001b[0;34m\u001b[0m\u001b[0;34m\u001b[0m\u001b[0m\n\u001b[0m\u001b[1;32m   2011\u001b[0m         \u001b[0mself\u001b[0m\u001b[0;34m.\u001b[0m\u001b[0munnamed_cols\u001b[0m \u001b[0;34m=\u001b[0m \u001b[0mself\u001b[0m\u001b[0;34m.\u001b[0m\u001b[0m_reader\u001b[0m\u001b[0;34m.\u001b[0m\u001b[0munnamed_cols\u001b[0m\u001b[0;34m\u001b[0m\u001b[0;34m\u001b[0m\u001b[0m\n\u001b[1;32m   2012\u001b[0m \u001b[0;34m\u001b[0m\u001b[0m\n",
      "\u001b[0;32mpandas/_libs/parsers.pyx\u001b[0m in \u001b[0;36mpandas._libs.parsers.TextReader.__cinit__\u001b[0;34m()\u001b[0m\n",
      "\u001b[0;31mEmptyDataError\u001b[0m: No columns to parse from file"
     ]
    }
   ],
   "source": [
    "#all to one file\n",
    "filelist=[]\n",
    "for i in tqdm(months):\n",
    "    dataframes=[]\n",
    "    thisdir = dir_string + \"/\" +str(i)\n",
    "    for j in os.listdir(thisdir):\n",
    "        if j.isnumeric():\n",
    "            dir2 = os.listdir(thisdir+\"/\"+str(j))\n",
    "            for k in dir2:\n",
    "                if 'Reis_Bestemming_Datum' in k: \n",
    "                    file_dir = thisdir + \"/\" + j + \"/\" + k\n",
    "                    df = pd.read_csv(str(file_dir),sep=';')\n",
    "                    #Clean stuff\n",
    "                    df = df[df.AankomstHalteNaam != 'Overig']\n",
    "                    df = df[df.AankomstHalteNaam != '[[ Onbekend ]]']\n",
    "                    \n",
    "                    df = df.dropna()\n",
    "\n",
    "                    \n",
    "                    dataframes.append(df)\n",
    "                    \n",
    "    merged = pd.concat(dataframes, ignore_index=True)\n",
    "    filelist.append(merged)\n",
    "    \n",
    "    \n",
    "final_merged = pd.concat(filelist, ignore_index=True)"
   ]
  },
  {
   "cell_type": "code",
   "execution_count": 1,
   "metadata": {},
   "outputs": [
    {
     "ename": "NameError",
     "evalue": "name 'final_merged' is not defined",
     "output_type": "error",
     "traceback": [
      "\u001b[0;31m---------------------------------------------------------------------------\u001b[0m",
      "\u001b[0;31mNameError\u001b[0m                                 Traceback (most recent call last)",
      "\u001b[0;32m<ipython-input-1-4f4abf357e25>\u001b[0m in \u001b[0;36m<module>\u001b[0;34m\u001b[0m\n\u001b[0;32m----> 1\u001b[0;31m \u001b[0mfinal_merged\u001b[0m\u001b[0;34m[\u001b[0m\u001b[0;34m'Modaliteit'\u001b[0m\u001b[0;34m]\u001b[0m \u001b[0;34m=\u001b[0m \u001b[0mfinal_merged\u001b[0m\u001b[0;34m.\u001b[0m\u001b[0mAankomstHalteCode\u001b[0m\u001b[0;34m.\u001b[0m\u001b[0mstr\u001b[0m\u001b[0;34m.\u001b[0m\u001b[0misnumeric\u001b[0m\u001b[0;34m(\u001b[0m\u001b[0;34m)\u001b[0m\u001b[0;34m\u001b[0m\u001b[0;34m\u001b[0m\u001b[0m\n\u001b[0m\u001b[1;32m      2\u001b[0m \u001b[0mfinal_merged\u001b[0m\u001b[0;34m.\u001b[0m\u001b[0mModaliteit\u001b[0m \u001b[0;34m=\u001b[0m \u001b[0mfinal_merged\u001b[0m\u001b[0;34m.\u001b[0m\u001b[0mModaliteit\u001b[0m\u001b[0;34m.\u001b[0m\u001b[0mreplace\u001b[0m\u001b[0;34m(\u001b[0m\u001b[0mto_replace\u001b[0m\u001b[0;34m=\u001b[0m\u001b[0;34m[\u001b[0m\u001b[0;32mTrue\u001b[0m\u001b[0;34m]\u001b[0m\u001b[0;34m,\u001b[0m\u001b[0mvalue\u001b[0m\u001b[0;34m=\u001b[0m\u001b[0;34m'Tram of bus'\u001b[0m\u001b[0;34m)\u001b[0m\u001b[0;34m\u001b[0m\u001b[0;34m\u001b[0m\u001b[0m\n\u001b[1;32m      3\u001b[0m \u001b[0mfinal_merged\u001b[0m\u001b[0;34m.\u001b[0m\u001b[0mModaliteit\u001b[0m \u001b[0;34m=\u001b[0m \u001b[0mfinal_merged\u001b[0m\u001b[0;34m.\u001b[0m\u001b[0mModaliteit\u001b[0m\u001b[0;34m.\u001b[0m\u001b[0mreplace\u001b[0m\u001b[0;34m(\u001b[0m\u001b[0mto_replace\u001b[0m\u001b[0;34m=\u001b[0m\u001b[0;34m[\u001b[0m\u001b[0;32mFalse\u001b[0m\u001b[0;34m]\u001b[0m\u001b[0;34m,\u001b[0m\u001b[0mvalue\u001b[0m\u001b[0;34m=\u001b[0m\u001b[0;34m'Metro'\u001b[0m\u001b[0;34m)\u001b[0m\u001b[0;34m\u001b[0m\u001b[0;34m\u001b[0m\u001b[0m\n\u001b[1;32m      4\u001b[0m \u001b[0;34m\u001b[0m\u001b[0m\n\u001b[1;32m      5\u001b[0m \u001b[0mfinal_merged\u001b[0m \u001b[0;34m=\u001b[0m \u001b[0mfinal_merged\u001b[0m\u001b[0;34m.\u001b[0m\u001b[0msort_values\u001b[0m\u001b[0;34m(\u001b[0m\u001b[0mby\u001b[0m\u001b[0;34m=\u001b[0m\u001b[0;34m[\u001b[0m\u001b[0;34m'Datum'\u001b[0m\u001b[0;34m]\u001b[0m\u001b[0;34m)\u001b[0m\u001b[0;34m\u001b[0m\u001b[0;34m\u001b[0m\u001b[0m\n",
      "\u001b[0;31mNameError\u001b[0m: name 'final_merged' is not defined"
     ]
    }
   ],
   "source": [
    "final_merged['Modaliteit'] = final_merged.AankomstHalteCode.str.isnumeric()\n",
    "final_merged.Modaliteit = final_merged.Modaliteit.replace(to_replace=[True],value='Tram of bus')\n",
    "final_merged.Modaliteit = final_merged.Modaliteit.replace(to_replace=[False],value='Metro')\n",
    "\n",
    "final_merged = final_merged.sort_values(by=['Datum'])\n",
    "\n",
    "\n",
    "final_merged.to_csv(\"Bestemming_Datum_merged.csv\")"
   ]
  },
  {
   "cell_type": "code",
   "execution_count": 9,
   "metadata": {},
   "outputs": [
    {
     "data": {
      "text/plain": [
       "Tram of bus    656398\n",
       "Metro           29630\n",
       "Name: Modaliteit, dtype: int64"
      ]
     },
     "execution_count": 9,
     "metadata": {},
     "output_type": "execute_result"
    }
   ],
   "source": []
  },
  {
   "cell_type": "code",
   "execution_count": 89,
   "metadata": {},
   "outputs": [
    {
     "name": "stderr",
     "output_type": "stream",
     "text": [
      "\r",
      "  0%|          | 0/2 [00:00<?, ?it/s]"
     ]
    },
    {
     "name": "stdout",
     "output_type": "stream",
     "text": [
      "03\n",
      "/Users/arnogarstman/Downloads/DSP/Notebook/03\n",
      "/Users/arnogarstman/Downloads/DSP/Notebook/03/02/Datalab_Reis_Bestemming_Datum_20200302.csv\n",
      "/Users/arnogarstman/Downloads/DSP/Notebook/03/02/Datalab_Reis_Bestemming_Datum_20200302.csv\n",
      "/Users/arnogarstman/Downloads/DSP/Notebook/03/02/Datalab_Reis_Bestemming_Datum_20200302.csv\n",
      "/Users/arnogarstman/Downloads/DSP/Notebook/03/02/Datalab_Reis_Bestemming_Datum_20200302.csv\n",
      "/Users/arnogarstman/Downloads/DSP/Notebook/03/02/Datalab_Reis_Bestemming_Datum_20200302.csv\n",
      "/Users/arnogarstman/Downloads/DSP/Notebook/03/02/Datalab_Reis_Bestemming_Datum_20200302.csv\n",
      "/Users/arnogarstman/Downloads/DSP/Notebook/03/02/Datalab_Reis_Bestemming_Datum_20200302.csv\n",
      "/Users/arnogarstman/Downloads/DSP/Notebook/03/02/Datalab_Reis_Bestemming_Datum_20200302.csv\n",
      "/Users/arnogarstman/Downloads/DSP/Notebook/03/16/Datalab_Reis_Bestemming_Datum_20200316.csv\n",
      "/Users/arnogarstman/Downloads/DSP/Notebook/03/02/Datalab_Reis_Bestemming_Datum_20200302.csv\n",
      "/Users/arnogarstman/Downloads/DSP/Notebook/03/16/Datalab_Reis_Bestemming_Datum_20200316.csv\n",
      "/Users/arnogarstman/Downloads/DSP/Notebook/03/02/Datalab_Reis_Bestemming_Datum_20200302.csv\n",
      "/Users/arnogarstman/Downloads/DSP/Notebook/03/16/Datalab_Reis_Bestemming_Datum_20200316.csv\n",
      "/Users/arnogarstman/Downloads/DSP/Notebook/03/02/Datalab_Reis_Bestemming_Datum_20200302.csv\n",
      "/Users/arnogarstman/Downloads/DSP/Notebook/03/16/Datalab_Reis_Bestemming_Datum_20200316.csv\n",
      "/Users/arnogarstman/Downloads/DSP/Notebook/03/02/Datalab_Reis_Bestemming_Datum_20200302.csv\n",
      "/Users/arnogarstman/Downloads/DSP/Notebook/03/16/Datalab_Reis_Bestemming_Datum_20200316.csv\n",
      "/Users/arnogarstman/Downloads/DSP/Notebook/03/02/Datalab_Reis_Bestemming_Datum_20200302.csv\n",
      "/Users/arnogarstman/Downloads/DSP/Notebook/03/16/Datalab_Reis_Bestemming_Datum_20200316.csv\n",
      "/Users/arnogarstman/Downloads/DSP/Notebook/03/02/Datalab_Reis_Bestemming_Datum_20200302.csv\n",
      "/Users/arnogarstman/Downloads/DSP/Notebook/03/16/Datalab_Reis_Bestemming_Datum_20200316.csv\n",
      "/Users/arnogarstman/Downloads/DSP/Notebook/03/09/Datalab_Reis_Bestemming_Datum_20200309.csv\n",
      "/Users/arnogarstman/Downloads/DSP/Notebook/03/02/Datalab_Reis_Bestemming_Datum_20200302.csv\n",
      "/Users/arnogarstman/Downloads/DSP/Notebook/03/16/Datalab_Reis_Bestemming_Datum_20200316.csv\n",
      "/Users/arnogarstman/Downloads/DSP/Notebook/03/09/Datalab_Reis_Bestemming_Datum_20200309.csv\n",
      "/Users/arnogarstman/Downloads/DSP/Notebook/03/02/Datalab_Reis_Bestemming_Datum_20200302.csv\n",
      "/Users/arnogarstman/Downloads/DSP/Notebook/03/16/Datalab_Reis_Bestemming_Datum_20200316.csv\n",
      "/Users/arnogarstman/Downloads/DSP/Notebook/03/09/Datalab_Reis_Bestemming_Datum_20200309.csv\n",
      "/Users/arnogarstman/Downloads/DSP/Notebook/03/02/Datalab_Reis_Bestemming_Datum_20200302.csv\n",
      "/Users/arnogarstman/Downloads/DSP/Notebook/03/16/Datalab_Reis_Bestemming_Datum_20200316.csv\n",
      "/Users/arnogarstman/Downloads/DSP/Notebook/03/09/Datalab_Reis_Bestemming_Datum_20200309.csv\n",
      "/Users/arnogarstman/Downloads/DSP/Notebook/03/02/Datalab_Reis_Bestemming_Datum_20200302.csv\n",
      "/Users/arnogarstman/Downloads/DSP/Notebook/03/16/Datalab_Reis_Bestemming_Datum_20200316.csv\n",
      "/Users/arnogarstman/Downloads/DSP/Notebook/03/09/Datalab_Reis_Bestemming_Datum_20200309.csv\n",
      "/Users/arnogarstman/Downloads/DSP/Notebook/03/02/Datalab_Reis_Bestemming_Datum_20200302.csv\n",
      "/Users/arnogarstman/Downloads/DSP/Notebook/03/16/Datalab_Reis_Bestemming_Datum_20200316.csv\n",
      "/Users/arnogarstman/Downloads/DSP/Notebook/03/09/Datalab_Reis_Bestemming_Datum_20200309.csv\n",
      "/Users/arnogarstman/Downloads/DSP/Notebook/03/02/Datalab_Reis_Bestemming_Datum_20200302.csv\n",
      "/Users/arnogarstman/Downloads/DSP/Notebook/03/16/Datalab_Reis_Bestemming_Datum_20200316.csv\n",
      "/Users/arnogarstman/Downloads/DSP/Notebook/03/09/Datalab_Reis_Bestemming_Datum_20200309.csv\n",
      "/Users/arnogarstman/Downloads/DSP/Notebook/03/30/Datalab_Reis_Bestemming_Datum_20200330.csv\n",
      "/Users/arnogarstman/Downloads/DSP/Notebook/03/02/Datalab_Reis_Bestemming_Datum_20200302.csv\n",
      "/Users/arnogarstman/Downloads/DSP/Notebook/03/16/Datalab_Reis_Bestemming_Datum_20200316.csv\n",
      "/Users/arnogarstman/Downloads/DSP/Notebook/03/09/Datalab_Reis_Bestemming_Datum_20200309.csv\n",
      "/Users/arnogarstman/Downloads/DSP/Notebook/03/30/Datalab_Reis_Bestemming_Datum_20200330.csv\n",
      "/Users/arnogarstman/Downloads/DSP/Notebook/03/02/Datalab_Reis_Bestemming_Datum_20200302.csv\n",
      "/Users/arnogarstman/Downloads/DSP/Notebook/03/16/Datalab_Reis_Bestemming_Datum_20200316.csv\n",
      "/Users/arnogarstman/Downloads/DSP/Notebook/03/09/Datalab_Reis_Bestemming_Datum_20200309.csv\n",
      "/Users/arnogarstman/Downloads/DSP/Notebook/03/30/Datalab_Reis_Bestemming_Datum_20200330.csv\n",
      "/Users/arnogarstman/Downloads/DSP/Notebook/03/02/Datalab_Reis_Bestemming_Datum_20200302.csv\n",
      "/Users/arnogarstman/Downloads/DSP/Notebook/03/16/Datalab_Reis_Bestemming_Datum_20200316.csv\n",
      "/Users/arnogarstman/Downloads/DSP/Notebook/03/09/Datalab_Reis_Bestemming_Datum_20200309.csv\n",
      "/Users/arnogarstman/Downloads/DSP/Notebook/03/30/Datalab_Reis_Bestemming_Datum_20200330.csv\n",
      "/Users/arnogarstman/Downloads/DSP/Notebook/03/02/Datalab_Reis_Bestemming_Datum_20200302.csv\n",
      "/Users/arnogarstman/Downloads/DSP/Notebook/03/16/Datalab_Reis_Bestemming_Datum_20200316.csv\n",
      "/Users/arnogarstman/Downloads/DSP/Notebook/03/09/Datalab_Reis_Bestemming_Datum_20200309.csv\n",
      "/Users/arnogarstman/Downloads/DSP/Notebook/03/30/Datalab_Reis_Bestemming_Datum_20200330.csv\n",
      "/Users/arnogarstman/Downloads/DSP/Notebook/03/02/Datalab_Reis_Bestemming_Datum_20200302.csv\n",
      "/Users/arnogarstman/Downloads/DSP/Notebook/03/16/Datalab_Reis_Bestemming_Datum_20200316.csv\n",
      "/Users/arnogarstman/Downloads/DSP/Notebook/03/09/Datalab_Reis_Bestemming_Datum_20200309.csv\n",
      "/Users/arnogarstman/Downloads/DSP/Notebook/03/30/Datalab_Reis_Bestemming_Datum_20200330.csv\n",
      "/Users/arnogarstman/Downloads/DSP/Notebook/03/02/Datalab_Reis_Bestemming_Datum_20200302.csv\n",
      "/Users/arnogarstman/Downloads/DSP/Notebook/03/16/Datalab_Reis_Bestemming_Datum_20200316.csv\n",
      "/Users/arnogarstman/Downloads/DSP/Notebook/03/09/Datalab_Reis_Bestemming_Datum_20200309.csv\n",
      "/Users/arnogarstman/Downloads/DSP/Notebook/03/30/Datalab_Reis_Bestemming_Datum_20200330.csv\n",
      "/Users/arnogarstman/Downloads/DSP/Notebook/03/02/Datalab_Reis_Bestemming_Datum_20200302.csv\n",
      "/Users/arnogarstman/Downloads/DSP/Notebook/03/16/Datalab_Reis_Bestemming_Datum_20200316.csv\n",
      "/Users/arnogarstman/Downloads/DSP/Notebook/03/09/Datalab_Reis_Bestemming_Datum_20200309.csv\n",
      "/Users/arnogarstman/Downloads/DSP/Notebook/03/30/Datalab_Reis_Bestemming_Datum_20200330.csv\n",
      "/Users/arnogarstman/Downloads/DSP/Notebook/03/23/Datalab_Reis_Bestemming_Datum_20200323.csv\n",
      "/Users/arnogarstman/Downloads/DSP/Notebook/03/02/Datalab_Reis_Bestemming_Datum_20200302.csv\n",
      "/Users/arnogarstman/Downloads/DSP/Notebook/03/16/Datalab_Reis_Bestemming_Datum_20200316.csv\n",
      "/Users/arnogarstman/Downloads/DSP/Notebook/03/09/Datalab_Reis_Bestemming_Datum_20200309.csv\n",
      "/Users/arnogarstman/Downloads/DSP/Notebook/03/30/Datalab_Reis_Bestemming_Datum_20200330.csv\n",
      "/Users/arnogarstman/Downloads/DSP/Notebook/03/23/Datalab_Reis_Bestemming_Datum_20200323.csv\n",
      "/Users/arnogarstman/Downloads/DSP/Notebook/03/02/Datalab_Reis_Bestemming_Datum_20200302.csv\n",
      "/Users/arnogarstman/Downloads/DSP/Notebook/03/16/Datalab_Reis_Bestemming_Datum_20200316.csv\n",
      "/Users/arnogarstman/Downloads/DSP/Notebook/03/09/Datalab_Reis_Bestemming_Datum_20200309.csv\n",
      "/Users/arnogarstman/Downloads/DSP/Notebook/03/30/Datalab_Reis_Bestemming_Datum_20200330.csv\n",
      "/Users/arnogarstman/Downloads/DSP/Notebook/03/23/Datalab_Reis_Bestemming_Datum_20200323.csv\n",
      "/Users/arnogarstman/Downloads/DSP/Notebook/03/02/Datalab_Reis_Bestemming_Datum_20200302.csv\n",
      "/Users/arnogarstman/Downloads/DSP/Notebook/03/16/Datalab_Reis_Bestemming_Datum_20200316.csv\n",
      "/Users/arnogarstman/Downloads/DSP/Notebook/03/09/Datalab_Reis_Bestemming_Datum_20200309.csv\n",
      "/Users/arnogarstman/Downloads/DSP/Notebook/03/30/Datalab_Reis_Bestemming_Datum_20200330.csv\n",
      "/Users/arnogarstman/Downloads/DSP/Notebook/03/23/Datalab_Reis_Bestemming_Datum_20200323.csv\n"
     ]
    },
    {
     "name": "stderr",
     "output_type": "stream",
     "text": [
      "\r",
      " 50%|█████     | 1/2 [00:04<00:04,  4.06s/it]"
     ]
    },
    {
     "name": "stdout",
     "output_type": "stream",
     "text": [
      "04\n",
      "/Users/arnogarstman/Downloads/DSP/Notebook/04\n",
      "/Users/arnogarstman/Downloads/DSP/Notebook/04/20/Datalab_Reis_Bestemming_Datum_2019.csv\n",
      "/Users/arnogarstman/Downloads/DSP/Notebook/04/20/Datalab_Reis_Bestemming_Datum_2019.csv\n",
      "/Users/arnogarstman/Downloads/DSP/Notebook/04/20/Datalab_Reis_Bestemming_Datum_2019.csv\n",
      "/Users/arnogarstman/Downloads/DSP/Notebook/04/20/Datalab_Reis_Bestemming_Datum_2019.csv\n",
      "/Users/arnogarstman/Downloads/DSP/Notebook/04/20/Datalab_Reis_Bestemming_Datum_2019.csv\n",
      "/Users/arnogarstman/Downloads/DSP/Notebook/04/20/Datalab_Reis_Bestemming_Datum_2019.csv\n",
      "/Users/arnogarstman/Downloads/DSP/Notebook/04/28/Datalab_Reis_Bestemming_Datum_20200428.csv\n",
      "/Users/arnogarstman/Downloads/DSP/Notebook/04/20/Datalab_Reis_Bestemming_Datum_2019.csv\n",
      "/Users/arnogarstman/Downloads/DSP/Notebook/04/28/Datalab_Reis_Bestemming_Datum_20200428.csv\n",
      "/Users/arnogarstman/Downloads/DSP/Notebook/04/20/Datalab_Reis_Bestemming_Datum_2019.csv\n",
      "/Users/arnogarstman/Downloads/DSP/Notebook/04/28/Datalab_Reis_Bestemming_Datum_20200428.csv\n",
      "/Users/arnogarstman/Downloads/DSP/Notebook/04/20/Datalab_Reis_Bestemming_Datum_2019.csv\n",
      "/Users/arnogarstman/Downloads/DSP/Notebook/04/28/Datalab_Reis_Bestemming_Datum_20200428.csv\n",
      "/Users/arnogarstman/Downloads/DSP/Notebook/04/20/Datalab_Reis_Bestemming_Datum_2019.csv\n",
      "/Users/arnogarstman/Downloads/DSP/Notebook/04/28/Datalab_Reis_Bestemming_Datum_20200428.csv\n",
      "/Users/arnogarstman/Downloads/DSP/Notebook/04/20/Datalab_Reis_Bestemming_Datum_2019.csv\n",
      "/Users/arnogarstman/Downloads/DSP/Notebook/04/28/Datalab_Reis_Bestemming_Datum_20200428.csv\n",
      "/Users/arnogarstman/Downloads/DSP/Notebook/04/20/Datalab_Reis_Bestemming_Datum_2019.csv\n",
      "/Users/arnogarstman/Downloads/DSP/Notebook/04/28/Datalab_Reis_Bestemming_Datum_20200428.csv\n",
      "/Users/arnogarstman/Downloads/DSP/Notebook/04/20/Datalab_Reis_Bestemming_Datum_2019.csv\n"
     ]
    },
    {
     "name": "stderr",
     "output_type": "stream",
     "text": [
      "\r",
      " 50%|█████     | 1/2 [00:12<00:12, 12.37s/it]"
     ]
    },
    {
     "name": "stdout",
     "output_type": "stream",
     "text": [
      "/Users/arnogarstman/Downloads/DSP/Notebook/04/28/Datalab_Reis_Bestemming_Datum_20200428.csv\n"
     ]
    },
    {
     "name": "stderr",
     "output_type": "stream",
     "text": [
      "\n"
     ]
    },
    {
     "ename": "KeyboardInterrupt",
     "evalue": "",
     "output_type": "error",
     "traceback": [
      "\u001b[0;31m---------------------------------------------------------------------------\u001b[0m",
      "\u001b[0;31mKeyboardInterrupt\u001b[0m                         Traceback (most recent call last)",
      "\u001b[0;32m<ipython-input-89-32ed33fd2611>\u001b[0m in \u001b[0;36m<module>\u001b[0;34m\u001b[0m\n\u001b[1;32m     19\u001b[0m                         \u001b[0mprint\u001b[0m\u001b[0;34m(\u001b[0m\u001b[0mi\u001b[0m\u001b[0;34m)\u001b[0m\u001b[0;34m\u001b[0m\u001b[0;34m\u001b[0m\u001b[0m\n\u001b[1;32m     20\u001b[0m                         \u001b[0mfiles\u001b[0m\u001b[0;34m.\u001b[0m\u001b[0mappend\u001b[0m\u001b[0;34m(\u001b[0m\u001b[0mpd\u001b[0m\u001b[0;34m.\u001b[0m\u001b[0mread_csv\u001b[0m\u001b[0;34m(\u001b[0m\u001b[0mstr\u001b[0m\u001b[0;34m(\u001b[0m\u001b[0mi\u001b[0m\u001b[0;34m)\u001b[0m\u001b[0;34m,\u001b[0m\u001b[0msep\u001b[0m\u001b[0;34m=\u001b[0m\u001b[0;34m';'\u001b[0m\u001b[0;34m)\u001b[0m\u001b[0;34m)\u001b[0m\u001b[0;34m\u001b[0m\u001b[0;34m\u001b[0m\u001b[0m\n\u001b[0;32m---> 21\u001b[0;31m                         \u001b[0mdf\u001b[0m \u001b[0;34m=\u001b[0m \u001b[0mdf\u001b[0m\u001b[0;34m[\u001b[0m\u001b[0mdf\u001b[0m\u001b[0;34m.\u001b[0m\u001b[0mAankomstHalteNaam\u001b[0m \u001b[0;34m!=\u001b[0m \u001b[0;34m'Overig'\u001b[0m\u001b[0;34m]\u001b[0m\u001b[0;34m\u001b[0m\u001b[0;34m\u001b[0m\u001b[0m\n\u001b[0m\u001b[1;32m     22\u001b[0m                         \u001b[0mdf\u001b[0m \u001b[0;34m=\u001b[0m \u001b[0mdf\u001b[0m\u001b[0;34m[\u001b[0m\u001b[0mdf\u001b[0m\u001b[0;34m.\u001b[0m\u001b[0mAankomstHalteNaam\u001b[0m \u001b[0;34m!=\u001b[0m \u001b[0;34m'[[ Onbekend ]]'\u001b[0m\u001b[0;34m]\u001b[0m\u001b[0;34m\u001b[0m\u001b[0;34m\u001b[0m\u001b[0m\n\u001b[1;32m     23\u001b[0m                         \u001b[0mdf\u001b[0m \u001b[0;34m=\u001b[0m \u001b[0mdf\u001b[0m\u001b[0;34m[\u001b[0m\u001b[0mdf\u001b[0m\u001b[0;34m.\u001b[0m\u001b[0mAankomstHalteNaam\u001b[0m\u001b[0;34m.\u001b[0m\u001b[0misna\u001b[0m\u001b[0;34m(\u001b[0m\u001b[0;34m)\u001b[0m\u001b[0;34m==\u001b[0m\u001b[0;32mFalse\u001b[0m\u001b[0;34m]\u001b[0m\u001b[0;34m\u001b[0m\u001b[0;34m\u001b[0m\u001b[0m\n",
      "\u001b[0;31mKeyboardInterrupt\u001b[0m: "
     ]
    }
   ],
   "source": [
    "\n",
    "            \n",
    "\n"
   ]
  },
  {
   "cell_type": "code",
   "execution_count": 64,
   "metadata": {},
   "outputs": [],
   "source": [
    "df = pd.concat(files)\n",
    "df['DatumUurGroep'] = df[df.columns[0]] + df[df.columns[1]]  "
   ]
  },
  {
   "cell_type": "code",
   "execution_count": 65,
   "metadata": {},
   "outputs": [],
   "source": [
    "files=[]\n",
    "for i in file_names:\n",
    "    if 'Reis_Bestemming_Datum' in str(i):\n",
    "        files.append(pd.read_csv(str(i),sep=';'))"
   ]
  },
  {
   "cell_type": "code",
   "execution_count": 66,
   "metadata": {},
   "outputs": [],
   "source": [
    "df = pd.concat(files, ignore_index=True)\n"
   ]
  },
  {
   "cell_type": "code",
   "execution_count": 80,
   "metadata": {},
   "outputs": [],
   "source": [
    "df = df.copy()"
   ]
  },
  {
   "cell_type": "code",
   "execution_count": 81,
   "metadata": {},
   "outputs": [],
   "source": [
    "df = df[df.AankomstHalteNaam != 'Overig']\n",
    "df = df[df.AankomstHalteNaam != '[[ Onbekend ]]']"
   ]
  },
  {
   "cell_type": "code",
   "execution_count": 83,
   "metadata": {},
   "outputs": [],
   "source": [
    "df.AankomstHalteNaam = df.AankomstHalteNaam.dropna()\n",
    "df.AantalReizen = df.AantalReizen.dropna()"
   ]
  },
  {
   "cell_type": "code",
   "execution_count": 86,
   "metadata": {},
   "outputs": [
    {
     "data": {
      "text/plain": [
       "False    6259\n",
       "Name: AankomstHalteNaam, dtype: int64"
      ]
     },
     "execution_count": 86,
     "metadata": {},
     "output_type": "execute_result"
    }
   ],
   "source": [
    "df.AankomstHalteNaam.isna().value_counts()"
   ]
  },
  {
   "cell_type": "code",
   "execution_count": null,
   "metadata": {},
   "outputs": [],
   "source": []
  },
  {
   "cell_type": "code",
   "execution_count": 87,
   "metadata": {},
   "outputs": [
    {
     "data": {
      "text/plain": [
       "(6259,)"
      ]
     },
     "execution_count": 87,
     "metadata": {},
     "output_type": "execute_result"
    }
   ],
   "source": [
    "df.AankomstHalteNaam.shape"
   ]
  },
  {
   "cell_type": "code",
   "execution_count": 42,
   "metadata": {},
   "outputs": [
    {
     "data": {
      "text/html": [
       "<div>\n",
       "<style scoped>\n",
       "    .dataframe tbody tr th:only-of-type {\n",
       "        vertical-align: middle;\n",
       "    }\n",
       "\n",
       "    .dataframe tbody tr th {\n",
       "        vertical-align: top;\n",
       "    }\n",
       "\n",
       "    .dataframe thead th {\n",
       "        text-align: right;\n",
       "    }\n",
       "</style>\n",
       "<table border=\"1\" class=\"dataframe\">\n",
       "  <thead>\n",
       "    <tr style=\"text-align: right;\">\n",
       "      <th></th>\n",
       "      <th>Datum</th>\n",
       "      <th>AankomstHalteCode</th>\n",
       "      <th>AankomstHalteNaam</th>\n",
       "      <th>AankomstLat</th>\n",
       "      <th>AankomstLon</th>\n",
       "      <th>AantalReizen</th>\n",
       "      <th>DatumUurGroep</th>\n",
       "    </tr>\n",
       "  </thead>\n",
       "  <tbody>\n",
       "    <tr>\n",
       "      <th>923</th>\n",
       "      <td>1/20/2020 12:00:00 AM</td>\n",
       "      <td>08256</td>\n",
       "      <td>1e Coehoornstraat</td>\n",
       "      <td>4.926519</td>\n",
       "      <td>52.368322</td>\n",
       "      <td>70</td>\n",
       "      <td>1/20/2020 12:00:00 AM08256</td>\n",
       "    </tr>\n",
       "    <tr>\n",
       "      <th>924</th>\n",
       "      <td>1/20/2020 12:00:00 AM</td>\n",
       "      <td>08257</td>\n",
       "      <td>1e Coehoornstraat</td>\n",
       "      <td>4.926183</td>\n",
       "      <td>52.368087</td>\n",
       "      <td>395</td>\n",
       "      <td>1/20/2020 12:00:00 AM08257</td>\n",
       "    </tr>\n",
       "    <tr>\n",
       "      <th>1975</th>\n",
       "      <td>1/21/2020 12:00:00 AM</td>\n",
       "      <td>08256</td>\n",
       "      <td>1e Coehoornstraat</td>\n",
       "      <td>4.926519</td>\n",
       "      <td>52.368322</td>\n",
       "      <td>76</td>\n",
       "      <td>1/21/2020 12:00:00 AM08256</td>\n",
       "    </tr>\n",
       "    <tr>\n",
       "      <th>1976</th>\n",
       "      <td>1/21/2020 12:00:00 AM</td>\n",
       "      <td>08257</td>\n",
       "      <td>1e Coehoornstraat</td>\n",
       "      <td>4.926183</td>\n",
       "      <td>52.368087</td>\n",
       "      <td>409</td>\n",
       "      <td>1/21/2020 12:00:00 AM08257</td>\n",
       "    </tr>\n",
       "    <tr>\n",
       "      <th>3036</th>\n",
       "      <td>1/22/2020 12:00:00 AM</td>\n",
       "      <td>08256</td>\n",
       "      <td>1e Coehoornstraat</td>\n",
       "      <td>4.926519</td>\n",
       "      <td>52.368322</td>\n",
       "      <td>67</td>\n",
       "      <td>1/22/2020 12:00:00 AM08256</td>\n",
       "    </tr>\n",
       "  </tbody>\n",
       "</table>\n",
       "</div>"
      ],
      "text/plain": [
       "                      Datum AankomstHalteCode  AankomstHalteNaam  AankomstLat  \\\n",
       "923   1/20/2020 12:00:00 AM             08256  1e Coehoornstraat     4.926519   \n",
       "924   1/20/2020 12:00:00 AM             08257  1e Coehoornstraat     4.926183   \n",
       "1975  1/21/2020 12:00:00 AM             08256  1e Coehoornstraat     4.926519   \n",
       "1976  1/21/2020 12:00:00 AM             08257  1e Coehoornstraat     4.926183   \n",
       "3036  1/22/2020 12:00:00 AM             08256  1e Coehoornstraat     4.926519   \n",
       "\n",
       "      AankomstLon  AantalReizen               DatumUurGroep  \n",
       "923     52.368322            70  1/20/2020 12:00:00 AM08256  \n",
       "924     52.368087           395  1/20/2020 12:00:00 AM08257  \n",
       "1975    52.368322            76  1/21/2020 12:00:00 AM08256  \n",
       "1976    52.368087           409  1/21/2020 12:00:00 AM08257  \n",
       "3036    52.368322            67  1/22/2020 12:00:00 AM08256  "
      ]
     },
     "execution_count": 42,
     "metadata": {},
     "output_type": "execute_result"
    }
   ],
   "source": [
    "df.loc[df['AankomstHalteNaam'] == '1e Coehoornstraat'].head()\n"
   ]
  },
  {
   "cell_type": "code",
   "execution_count": 8,
   "metadata": {},
   "outputs": [],
   "source": [
    "\n"
   ]
  },
  {
   "cell_type": "code",
   "execution_count": null,
   "metadata": {},
   "outputs": [],
   "source": []
  }
 ],
 "metadata": {
  "kernelspec": {
   "display_name": "Python 3",
   "language": "python",
   "name": "python3"
  },
  "language_info": {
   "codemirror_mode": {
    "name": "ipython",
    "version": 3
   },
   "file_extension": ".py",
   "mimetype": "text/x-python",
   "name": "python",
   "nbconvert_exporter": "python",
   "pygments_lexer": "ipython3",
   "version": "3.8.0"
  }
 },
 "nbformat": 4,
 "nbformat_minor": 4
}
