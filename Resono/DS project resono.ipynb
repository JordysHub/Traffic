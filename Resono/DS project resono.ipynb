{
 "cells": [
  {
   "cell_type": "code",
   "execution_count": null,
   "metadata": {
    "ExecuteTime": {
     "end_time": "2021-01-14T21:34:37.797716Z",
     "start_time": "2021-01-14T21:34:37.723104Z"
    }
   },
   "outputs": [],
   "source": [
    "import pandas as pd\n",
    "import glob\n",
    "import os\n",
    "import matplotlib.pyplot as plt\n",
    "\n",
    "\n",
    "pd.options.mode.chained_assignment = None  # default='warn'\n",
    "\n",
    "pd.options.display.max_rows = 999\n",
    "pd.options.display.max_columns = 50\n",
    "pd.set_option('max_colwidth', 50)"
   ]
  },
  {
   "cell_type": "code",
   "execution_count": null,
   "metadata": {
    "ExecuteTime": {
     "end_time": "2021-01-15T11:51:38.932208Z",
     "start_time": "2021-01-15T11:51:34.359392Z"
    }
   },
   "outputs": [],
   "source": [
    "path = r'~/DSP/csvs'                \n",
    "all_files = glob.glob(os.path.join(path, \"*.csv\"))    \n",
    "\n",
    "df_from_each_file = (pd.read_csv(f) for f in all_files)\n",
    "data = pd.concat(df_from_each_file, ignore_index=True)\n"
   ]
  },
  {
   "cell_type": "code",
   "execution_count": null,
   "metadata": {
    "ExecuteTime": {
     "end_time": "2021-01-15T11:52:36.754504Z",
     "start_time": "2021-01-15T11:52:30.715394Z"
    }
   },
   "outputs": [],
   "source": [
    "# df = data.drop(['Locationcode', 'Resono-ID', 'End'], axis = 1)\n",
    "df = data.drop(['End'], axis = 1)\n",
    "df.Start = df.Start.str.split('+').str[0]\n",
    "df.Start = pd.to_datetime(df.Start)\n",
    "df = df.set_index('Start')\n",
    "# df = df.groupby('Location').resample('1H').sum()\n",
    "df = df.reset_index()\n",
    "df.head()"
   ]
  },
  {
   "cell_type": "code",
   "execution_count": null,
   "metadata": {
    "ExecuteTime": {
     "end_time": "2021-01-11T12:03:58.882217Z",
     "start_time": "2021-01-11T12:03:45.702369Z"
    }
   },
   "outputs": [],
   "source": [
    "df['Date'] = df['Start'].str.split('T').str[0]\n",
    "df['Time_Start'] = df['Start'].str.split('T').str[1]\n",
    "df['Time_End'] = df['End'].str.split('T').str[1]\n",
    "df['Start'] = df['Time_Start'].str.split('+').str[0]\n",
    "df['End'] = df['Time_End'].str.split('+').str[0]\n",
    "\n",
    "# df = df.drop(['Locationcode', 'Resono-ID', 'Time_Start', 'Time_End'], axis = 1)"
   ]
  },
  {
   "cell_type": "code",
   "execution_count": null,
   "metadata": {
    "ExecuteTime": {
     "end_time": "2021-01-15T11:52:40.664210Z",
     "start_time": "2021-01-15T11:52:40.458410Z"
    }
   },
   "outputs": [],
   "source": [
    "amstelveen = df.loc[df.Location == 'Amstelveen zuid']\n",
    "amstelveen.Start = pd.to_datetime(amstelveen.Start)\n",
    "plot = amstelveen[(amstelveen['Start'] > '2020-10-17') & (amstelveen['Start'] < '2020-10-21')]\n",
    "\n",
    "# aalsmeer = df.loc[df.Location == 'Aalsmeer']\n",
    "# aalsmeer.Start = pd.to_datetime(aalsmeer.Start)\n",
    "# plot2 = aalsmeer[(aalsmeer['Start'] > '2020-11-13') & (aalsmeer['Start'] < '2020-11-18')]\n"
   ]
  },
  {
   "cell_type": "code",
   "execution_count": null,
   "metadata": {
    "ExecuteTime": {
     "end_time": "2021-01-14T21:36:53.043923Z",
     "start_time": "2021-01-14T21:35:28.909722Z"
    }
   },
   "outputs": [],
   "source": [
    "df.to_excel('resono2.xlsx')"
   ]
  },
  {
   "cell_type": "code",
   "execution_count": null,
   "metadata": {
    "ExecuteTime": {
     "end_time": "2021-01-15T11:52:41.733722Z",
     "start_time": "2021-01-15T11:52:41.701983Z"
    }
   },
   "outputs": [],
   "source": [
    "amstelveen"
   ]
  },
  {
   "cell_type": "code",
   "execution_count": null,
   "metadata": {
    "ExecuteTime": {
     "end_time": "2021-01-15T11:53:25.834296Z",
     "start_time": "2021-01-15T11:53:25.818512Z"
    }
   },
   "outputs": [],
   "source": [
    "amstelveen['Resono-ID'].value_counts()"
   ]
  },
  {
   "cell_type": "code",
   "execution_count": null,
   "metadata": {},
   "outputs": [],
   "source": []
  }
 ],
 "metadata": {
  "kernelspec": {
   "display_name": "Python 3",
   "language": "python",
   "name": "python3"
  },
  "language_info": {
   "codemirror_mode": {
    "name": "ipython",
    "version": 3
   },
   "file_extension": ".py",
   "mimetype": "text/x-python",
   "name": "python",
   "nbconvert_exporter": "python",
   "pygments_lexer": "ipython3",
   "version": "3.8.5"
  }
 },
 "nbformat": 4,
 "nbformat_minor": 4
}
