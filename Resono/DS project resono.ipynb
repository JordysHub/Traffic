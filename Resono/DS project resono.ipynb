{
 "cells": [
  {
   "cell_type": "code",
   "execution_count": 12,
   "metadata": {
    "ExecuteTime": {
     "end_time": "2021-01-14T21:34:37.797716Z",
     "start_time": "2021-01-14T21:34:37.723104Z"
    }
   },
   "outputs": [],
   "source": [
    "import pandas as pd\n",
    "import glob\n",
    "import os\n",
    "import matplotlib.pyplot as plt\n",
    "\n",
    "\n",
    "pd.options.mode.chained_assignment = None  # default='warn'\n",
    "\n",
    "pd.options.display.max_rows = 999\n",
    "pd.options.display.max_columns = 50\n",
    "pd.set_option('max_colwidth', 50)"
   ]
  },
  {
   "cell_type": "code",
   "execution_count": 25,
   "metadata": {
    "ExecuteTime": {
     "end_time": "2021-01-15T11:51:38.932208Z",
     "start_time": "2021-01-15T11:51:34.359392Z"
    }
   },
   "outputs": [
    {
     "data": {
      "text/html": [
       "<div>\n",
       "<style scoped>\n",
       "    .dataframe tbody tr th:only-of-type {\n",
       "        vertical-align: middle;\n",
       "    }\n",
       "\n",
       "    .dataframe tbody tr th {\n",
       "        vertical-align: top;\n",
       "    }\n",
       "\n",
       "    .dataframe thead th {\n",
       "        text-align: right;\n",
       "    }\n",
       "</style>\n",
       "<table border=\"1\" class=\"dataframe\">\n",
       "  <thead>\n",
       "    <tr style=\"text-align: right;\">\n",
       "      <th></th>\n",
       "      <th>Location</th>\n",
       "      <th>Locationcode</th>\n",
       "      <th>Resono-ID</th>\n",
       "      <th>Start</th>\n",
       "      <th>End</th>\n",
       "      <th>Visits</th>\n",
       "    </tr>\n",
       "  </thead>\n",
       "  <tbody>\n",
       "    <tr>\n",
       "      <th>0</th>\n",
       "      <td>Planciusbuurt Zuid</td>\n",
       "      <td>d872f67c-7de3-46b5-b937-664a37f115d2</td>\n",
       "      <td>rcd23000</td>\n",
       "      <td>2020-11-29T00:00:00+00:00</td>\n",
       "      <td>2020-11-29T00:14:59+00:00</td>\n",
       "      <td>234</td>\n",
       "    </tr>\n",
       "    <tr>\n",
       "      <th>1</th>\n",
       "      <td>Planciusbuurt Zuid</td>\n",
       "      <td>d872f67c-7de3-46b5-b937-664a37f115d2</td>\n",
       "      <td>rcd23000</td>\n",
       "      <td>2020-11-29T00:15:00+00:00</td>\n",
       "      <td>2020-11-29T00:29:59+00:00</td>\n",
       "      <td>173</td>\n",
       "    </tr>\n",
       "    <tr>\n",
       "      <th>2</th>\n",
       "      <td>Planciusbuurt Zuid</td>\n",
       "      <td>d872f67c-7de3-46b5-b937-664a37f115d2</td>\n",
       "      <td>rcd23000</td>\n",
       "      <td>2020-11-29T00:30:00+00:00</td>\n",
       "      <td>2020-11-29T00:44:59+00:00</td>\n",
       "      <td>199</td>\n",
       "    </tr>\n",
       "    <tr>\n",
       "      <th>3</th>\n",
       "      <td>Planciusbuurt Zuid</td>\n",
       "      <td>d872f67c-7de3-46b5-b937-664a37f115d2</td>\n",
       "      <td>rcd23000</td>\n",
       "      <td>2020-11-29T00:45:00+00:00</td>\n",
       "      <td>2020-11-29T00:59:59+00:00</td>\n",
       "      <td>158</td>\n",
       "    </tr>\n",
       "    <tr>\n",
       "      <th>4</th>\n",
       "      <td>Planciusbuurt Zuid</td>\n",
       "      <td>d872f67c-7de3-46b5-b937-664a37f115d2</td>\n",
       "      <td>rcd23000</td>\n",
       "      <td>2020-11-29T01:00:00+00:00</td>\n",
       "      <td>2020-11-29T01:14:59+00:00</td>\n",
       "      <td>200</td>\n",
       "    </tr>\n",
       "  </tbody>\n",
       "</table>\n",
       "</div>"
      ],
      "text/plain": [
       "             Location                          Locationcode Resono-ID  \\\n",
       "0  Planciusbuurt Zuid  d872f67c-7de3-46b5-b937-664a37f115d2  rcd23000   \n",
       "1  Planciusbuurt Zuid  d872f67c-7de3-46b5-b937-664a37f115d2  rcd23000   \n",
       "2  Planciusbuurt Zuid  d872f67c-7de3-46b5-b937-664a37f115d2  rcd23000   \n",
       "3  Planciusbuurt Zuid  d872f67c-7de3-46b5-b937-664a37f115d2  rcd23000   \n",
       "4  Planciusbuurt Zuid  d872f67c-7de3-46b5-b937-664a37f115d2  rcd23000   \n",
       "\n",
       "                       Start                        End  Visits  \n",
       "0  2020-11-29T00:00:00+00:00  2020-11-29T00:14:59+00:00     234  \n",
       "1  2020-11-29T00:15:00+00:00  2020-11-29T00:29:59+00:00     173  \n",
       "2  2020-11-29T00:30:00+00:00  2020-11-29T00:44:59+00:00     199  \n",
       "3  2020-11-29T00:45:00+00:00  2020-11-29T00:59:59+00:00     158  \n",
       "4  2020-11-29T01:00:00+00:00  2020-11-29T01:14:59+00:00     200  "
      ]
     },
     "execution_count": 25,
     "metadata": {},
     "output_type": "execute_result"
    }
   ],
   "source": [
    "path = r'/Users/jordyschep/Documents/Uva Master/DSP/csvs'                \n",
    "all_files = glob.glob(os.path.join(path, \"*.csv\"))    \n",
    "\n",
    "df_from_each_file = (pd.read_csv(f) for f in all_files)\n",
    "data = pd.concat(df_from_each_file, ignore_index=True)\n",
    "data.head()"
   ]
  },
  {
   "cell_type": "code",
   "execution_count": 29,
   "metadata": {
    "ExecuteTime": {
     "end_time": "2021-01-15T11:52:36.754504Z",
     "start_time": "2021-01-15T11:52:30.715394Z"
    }
   },
   "outputs": [
    {
     "data": {
      "text/html": [
       "<div>\n",
       "<style scoped>\n",
       "    .dataframe tbody tr th:only-of-type {\n",
       "        vertical-align: middle;\n",
       "    }\n",
       "\n",
       "    .dataframe tbody tr th {\n",
       "        vertical-align: top;\n",
       "    }\n",
       "\n",
       "    .dataframe thead th {\n",
       "        text-align: right;\n",
       "    }\n",
       "</style>\n",
       "<table border=\"1\" class=\"dataframe\">\n",
       "  <thead>\n",
       "    <tr style=\"text-align: right;\">\n",
       "      <th></th>\n",
       "      <th>Start</th>\n",
       "      <th>Location</th>\n",
       "      <th>Locationcode</th>\n",
       "      <th>Resono-ID</th>\n",
       "      <th>Visits</th>\n",
       "    </tr>\n",
       "  </thead>\n",
       "  <tbody>\n",
       "    <tr>\n",
       "      <th>0</th>\n",
       "      <td>2020-11-29 00:00:00</td>\n",
       "      <td>Planciusbuurt Zuid</td>\n",
       "      <td>d872f67c-7de3-46b5-b937-664a37f115d2</td>\n",
       "      <td>rcd23000</td>\n",
       "      <td>234</td>\n",
       "    </tr>\n",
       "    <tr>\n",
       "      <th>1</th>\n",
       "      <td>2020-11-29 00:15:00</td>\n",
       "      <td>Planciusbuurt Zuid</td>\n",
       "      <td>d872f67c-7de3-46b5-b937-664a37f115d2</td>\n",
       "      <td>rcd23000</td>\n",
       "      <td>173</td>\n",
       "    </tr>\n",
       "    <tr>\n",
       "      <th>2</th>\n",
       "      <td>2020-11-29 00:30:00</td>\n",
       "      <td>Planciusbuurt Zuid</td>\n",
       "      <td>d872f67c-7de3-46b5-b937-664a37f115d2</td>\n",
       "      <td>rcd23000</td>\n",
       "      <td>199</td>\n",
       "    </tr>\n",
       "    <tr>\n",
       "      <th>3</th>\n",
       "      <td>2020-11-29 00:45:00</td>\n",
       "      <td>Planciusbuurt Zuid</td>\n",
       "      <td>d872f67c-7de3-46b5-b937-664a37f115d2</td>\n",
       "      <td>rcd23000</td>\n",
       "      <td>158</td>\n",
       "    </tr>\n",
       "    <tr>\n",
       "      <th>4</th>\n",
       "      <td>2020-11-29 01:00:00</td>\n",
       "      <td>Planciusbuurt Zuid</td>\n",
       "      <td>d872f67c-7de3-46b5-b937-664a37f115d2</td>\n",
       "      <td>rcd23000</td>\n",
       "      <td>200</td>\n",
       "    </tr>\n",
       "  </tbody>\n",
       "</table>\n",
       "</div>"
      ],
      "text/plain": [
       "                Start            Location  \\\n",
       "0 2020-11-29 00:00:00  Planciusbuurt Zuid   \n",
       "1 2020-11-29 00:15:00  Planciusbuurt Zuid   \n",
       "2 2020-11-29 00:30:00  Planciusbuurt Zuid   \n",
       "3 2020-11-29 00:45:00  Planciusbuurt Zuid   \n",
       "4 2020-11-29 01:00:00  Planciusbuurt Zuid   \n",
       "\n",
       "                           Locationcode Resono-ID  Visits  \n",
       "0  d872f67c-7de3-46b5-b937-664a37f115d2  rcd23000     234  \n",
       "1  d872f67c-7de3-46b5-b937-664a37f115d2  rcd23000     173  \n",
       "2  d872f67c-7de3-46b5-b937-664a37f115d2  rcd23000     199  \n",
       "3  d872f67c-7de3-46b5-b937-664a37f115d2  rcd23000     158  \n",
       "4  d872f67c-7de3-46b5-b937-664a37f115d2  rcd23000     200  "
      ]
     },
     "execution_count": 29,
     "metadata": {},
     "output_type": "execute_result"
    }
   ],
   "source": [
    "# df = data.drop(['Locationcode', 'Resono-ID', 'End'], axis = 1)\n",
    "df = data.drop(['End'], axis = 1)\n",
    "df.Start = df.Start.str.split('+').str[0]\n",
    "df.Start = pd.to_datetime(df.Start)\n",
    "df = df.set_index('Start')\n",
    "# df = df.groupby('Location').resample('1H').sum()\n",
    "df = df.reset_index()\n",
    "df.head()"
   ]
  },
  {
   "cell_type": "code",
   "execution_count": 103,
   "metadata": {
    "ExecuteTime": {
     "end_time": "2021-01-11T12:03:58.882217Z",
     "start_time": "2021-01-11T12:03:45.702369Z"
    }
   },
   "outputs": [],
   "source": [
    "df['Date'] = df['Start'].str.split('T').str[0]\n",
    "df['Time_Start'] = df['Start'].str.split('T').str[1]\n",
    "df['Time_End'] = df['End'].str.split('T').str[1]\n",
    "df['Start'] = df['Time_Start'].str.split('+').str[0]\n",
    "df['End'] = df['Time_End'].str.split('+').str[0]\n",
    "\n",
    "# df = df.drop(['Locationcode', 'Resono-ID', 'Time_Start', 'Time_End'], axis = 1)"
   ]
  },
  {
   "cell_type": "code",
   "execution_count": 30,
   "metadata": {
    "ExecuteTime": {
     "end_time": "2021-01-15T11:52:40.664210Z",
     "start_time": "2021-01-15T11:52:40.458410Z"
    }
   },
   "outputs": [],
   "source": [
    "amstelveen = df.loc[df.Location == 'Amstelveen zuid']\n",
    "amstelveen.Start = pd.to_datetime(amstelveen.Start)\n",
    "plot = amstelveen[(amstelveen['Start'] > '2020-10-17') & (amstelveen['Start'] < '2020-10-21')]\n",
    "\n",
    "# aalsmeer = df.loc[df.Location == 'Aalsmeer']\n",
    "# aalsmeer.Start = pd.to_datetime(aalsmeer.Start)\n",
    "# plot2 = aalsmeer[(aalsmeer['Start'] > '2020-11-13') & (aalsmeer['Start'] < '2020-11-18')]\n"
   ]
  },
  {
   "cell_type": "code",
   "execution_count": 16,
   "metadata": {
    "ExecuteTime": {
     "end_time": "2021-01-14T21:36:53.043923Z",
     "start_time": "2021-01-14T21:35:28.909722Z"
    }
   },
   "outputs": [],
   "source": [
    "df.to_excel('resono2.xlsx')"
   ]
  },
  {
   "cell_type": "code",
   "execution_count": 31,
   "metadata": {
    "ExecuteTime": {
     "end_time": "2021-01-15T11:52:41.733722Z",
     "start_time": "2021-01-15T11:52:41.701983Z"
    }
   },
   "outputs": [
    {
     "data": {
      "text/html": [
       "<div>\n",
       "<style scoped>\n",
       "    .dataframe tbody tr th:only-of-type {\n",
       "        vertical-align: middle;\n",
       "    }\n",
       "\n",
       "    .dataframe tbody tr th {\n",
       "        vertical-align: top;\n",
       "    }\n",
       "\n",
       "    .dataframe thead th {\n",
       "        text-align: right;\n",
       "    }\n",
       "</style>\n",
       "<table border=\"1\" class=\"dataframe\">\n",
       "  <thead>\n",
       "    <tr style=\"text-align: right;\">\n",
       "      <th></th>\n",
       "      <th>Start</th>\n",
       "      <th>Location</th>\n",
       "      <th>Locationcode</th>\n",
       "      <th>Resono-ID</th>\n",
       "      <th>Visits</th>\n",
       "    </tr>\n",
       "  </thead>\n",
       "  <tbody>\n",
       "    <tr>\n",
       "      <th>36860</th>\n",
       "      <td>2020-11-29 00:00:00</td>\n",
       "      <td>Amstelveen zuid</td>\n",
       "      <td>9acc636a-5d58-420c-95b6-e9b15c09117b</td>\n",
       "      <td>rcd23848</td>\n",
       "      <td>11416</td>\n",
       "    </tr>\n",
       "    <tr>\n",
       "      <th>36861</th>\n",
       "      <td>2020-11-29 00:15:00</td>\n",
       "      <td>Amstelveen zuid</td>\n",
       "      <td>9acc636a-5d58-420c-95b6-e9b15c09117b</td>\n",
       "      <td>rcd23848</td>\n",
       "      <td>11056</td>\n",
       "    </tr>\n",
       "    <tr>\n",
       "      <th>36862</th>\n",
       "      <td>2020-11-29 00:30:00</td>\n",
       "      <td>Amstelveen zuid</td>\n",
       "      <td>9acc636a-5d58-420c-95b6-e9b15c09117b</td>\n",
       "      <td>rcd23848</td>\n",
       "      <td>10896</td>\n",
       "    </tr>\n",
       "    <tr>\n",
       "      <th>36863</th>\n",
       "      <td>2020-11-29 00:45:00</td>\n",
       "      <td>Amstelveen zuid</td>\n",
       "      <td>9acc636a-5d58-420c-95b6-e9b15c09117b</td>\n",
       "      <td>rcd23848</td>\n",
       "      <td>12120</td>\n",
       "    </tr>\n",
       "    <tr>\n",
       "      <th>36864</th>\n",
       "      <td>2020-11-29 01:00:00</td>\n",
       "      <td>Amstelveen zuid</td>\n",
       "      <td>9acc636a-5d58-420c-95b6-e9b15c09117b</td>\n",
       "      <td>rcd23848</td>\n",
       "      <td>12565</td>\n",
       "    </tr>\n",
       "    <tr>\n",
       "      <th>...</th>\n",
       "      <td>...</td>\n",
       "      <td>...</td>\n",
       "      <td>...</td>\n",
       "      <td>...</td>\n",
       "      <td>...</td>\n",
       "    </tr>\n",
       "    <tr>\n",
       "      <th>2058406</th>\n",
       "      <td>2020-11-15 22:30:00</td>\n",
       "      <td>Amstelveen zuid</td>\n",
       "      <td>9acc636a-5d58-420c-95b6-e9b15c09117b</td>\n",
       "      <td>rcd23848</td>\n",
       "      <td>10</td>\n",
       "    </tr>\n",
       "    <tr>\n",
       "      <th>2058407</th>\n",
       "      <td>2020-11-15 22:45:00</td>\n",
       "      <td>Amstelveen zuid</td>\n",
       "      <td>9acc636a-5d58-420c-95b6-e9b15c09117b</td>\n",
       "      <td>rcd23848</td>\n",
       "      <td>17</td>\n",
       "    </tr>\n",
       "    <tr>\n",
       "      <th>2058408</th>\n",
       "      <td>2020-11-15 23:00:00</td>\n",
       "      <td>Amstelveen zuid</td>\n",
       "      <td>9acc636a-5d58-420c-95b6-e9b15c09117b</td>\n",
       "      <td>rcd23848</td>\n",
       "      <td>19</td>\n",
       "    </tr>\n",
       "    <tr>\n",
       "      <th>2058409</th>\n",
       "      <td>2020-11-15 23:15:00</td>\n",
       "      <td>Amstelveen zuid</td>\n",
       "      <td>9acc636a-5d58-420c-95b6-e9b15c09117b</td>\n",
       "      <td>rcd23848</td>\n",
       "      <td>14</td>\n",
       "    </tr>\n",
       "    <tr>\n",
       "      <th>2058410</th>\n",
       "      <td>2020-11-15 23:30:00</td>\n",
       "      <td>Amstelveen zuid</td>\n",
       "      <td>9acc636a-5d58-420c-95b6-e9b15c09117b</td>\n",
       "      <td>rcd23848</td>\n",
       "      <td>12</td>\n",
       "    </tr>\n",
       "  </tbody>\n",
       "</table>\n",
       "<p>3106 rows × 5 columns</p>\n",
       "</div>"
      ],
      "text/plain": [
       "                      Start         Location  \\\n",
       "36860   2020-11-29 00:00:00  Amstelveen zuid   \n",
       "36861   2020-11-29 00:15:00  Amstelveen zuid   \n",
       "36862   2020-11-29 00:30:00  Amstelveen zuid   \n",
       "36863   2020-11-29 00:45:00  Amstelveen zuid   \n",
       "36864   2020-11-29 01:00:00  Amstelveen zuid   \n",
       "...                     ...              ...   \n",
       "2058406 2020-11-15 22:30:00  Amstelveen zuid   \n",
       "2058407 2020-11-15 22:45:00  Amstelveen zuid   \n",
       "2058408 2020-11-15 23:00:00  Amstelveen zuid   \n",
       "2058409 2020-11-15 23:15:00  Amstelveen zuid   \n",
       "2058410 2020-11-15 23:30:00  Amstelveen zuid   \n",
       "\n",
       "                                 Locationcode Resono-ID  Visits  \n",
       "36860    9acc636a-5d58-420c-95b6-e9b15c09117b  rcd23848   11416  \n",
       "36861    9acc636a-5d58-420c-95b6-e9b15c09117b  rcd23848   11056  \n",
       "36862    9acc636a-5d58-420c-95b6-e9b15c09117b  rcd23848   10896  \n",
       "36863    9acc636a-5d58-420c-95b6-e9b15c09117b  rcd23848   12120  \n",
       "36864    9acc636a-5d58-420c-95b6-e9b15c09117b  rcd23848   12565  \n",
       "...                                       ...       ...     ...  \n",
       "2058406  9acc636a-5d58-420c-95b6-e9b15c09117b  rcd23848      10  \n",
       "2058407  9acc636a-5d58-420c-95b6-e9b15c09117b  rcd23848      17  \n",
       "2058408  9acc636a-5d58-420c-95b6-e9b15c09117b  rcd23848      19  \n",
       "2058409  9acc636a-5d58-420c-95b6-e9b15c09117b  rcd23848      14  \n",
       "2058410  9acc636a-5d58-420c-95b6-e9b15c09117b  rcd23848      12  \n",
       "\n",
       "[3106 rows x 5 columns]"
      ]
     },
     "execution_count": 31,
     "metadata": {},
     "output_type": "execute_result"
    }
   ],
   "source": [
    "amstelveen"
   ]
  },
  {
   "cell_type": "code",
   "execution_count": 32,
   "metadata": {
    "ExecuteTime": {
     "end_time": "2021-01-15T11:53:25.834296Z",
     "start_time": "2021-01-15T11:53:25.818512Z"
    }
   },
   "outputs": [
    {
     "data": {
      "text/plain": [
       "rcd23848    3106\n",
       "Name: Resono-ID, dtype: int64"
      ]
     },
     "execution_count": 32,
     "metadata": {},
     "output_type": "execute_result"
    }
   ],
   "source": [
    "amstelveen['Resono-ID'].value_counts()"
   ]
  },
  {
   "cell_type": "code",
   "execution_count": null,
   "metadata": {},
   "outputs": [],
   "source": []
  }
 ],
 "metadata": {
  "kernelspec": {
   "display_name": "Python 3",
   "language": "python",
   "name": "python3"
  },
  "language_info": {
   "codemirror_mode": {
    "name": "ipython",
    "version": 3
   },
   "file_extension": ".py",
   "mimetype": "text/x-python",
   "name": "python",
   "nbconvert_exporter": "python",
   "pygments_lexer": "ipython3",
   "version": "3.8.5"
  }
 },
 "nbformat": 4,
 "nbformat_minor": 4
}
